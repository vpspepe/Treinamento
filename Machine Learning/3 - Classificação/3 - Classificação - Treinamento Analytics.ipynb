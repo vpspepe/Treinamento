{
 "cells": [
  {
   "cell_type": "markdown",
   "id": "61a3c9a6",
   "metadata": {},
   "source": [
    "# Classificação\n",
    "\n",
    "A classificação é o problema mais clássico em machine learning, contando com inúmeros algoritmos diferentes dedicados a essa classe. Os algoritmos dedicados à classificação são de aprendizagem supervisionada, pois o algoritmo aprende a partir de exemplos dados como treino, para depois tirar suas próprias conclusões de forma autônoma, e há um resultado correto esperado. Aqui, cobriremos algoritmos muito diferentes que possuem o mesmo propósito, o de obter a maior quantidade de classificações corretas no final. \n",
    "\n",
    "Algoritmos de classificação são vastamente utilizados atualmente, como para detecção de objetos, detecção de e-mails de SPAM, de fraudes bancárias etc. Ultimamente, a classificação e suas métricas de avaliação ganhou muito espaço por conta da pandemia, onde desejou-se classificar um paciente como portador do vírus ou não. Nesse cenário, muito discutiu-se sobre a efetividade dos testes realizados. Os mesmos conceitos usados para definir se um teste de covid é bom ou não, são utilizados para avaliar um algoritmo de classificação de machine learning.\n",
    "\n",
    "Um detalhe importante ao escolher um algoritmo de aprendizagem supervisionada: alguns deles são para classificação binária (apenas duas classes) enquanto outros são generalizáveis para múltiplas classes. Vamos apresentar alguns a seguir."
   ]
  },
  {
   "cell_type": "code",
   "execution_count": 1,
   "id": "20046e3d",
   "metadata": {},
   "outputs": [],
   "source": [
    "import numpy as np\n",
    "import matplotlib.pyplot as plt\n",
    "import pandas as pd"
   ]
  },
  {
   "cell_type": "markdown",
   "id": "725f4a6e",
   "metadata": {},
   "source": [
    "### 1. K-Vizinhos mais próximos (kNN)\n",
    "\n",
    "O algoritmo K-Vizinhos mais próximos (k-Nearest Neighbours) é o primeiro e mais simples algoritmo de classificação que estudaremos. A ideia do algoritmo é classificar um dado de acordo com sua semelhança a outros dados já classificados, ou seja, dados na \"vizinhança\".\n",
    "\n",
    "Na prática, um conjunto de dados já classificados é fornecido ao algoritmo e, para fazer novas classificações, o algoritmo compara o dado a ser classificado com os k dados mais parecidos, pelo método dos mínimos quadrados.\n",
    "\n"
   ]
  },
  {
   "cell_type": "markdown",
   "id": "6d34d1d4",
   "metadata": {},
   "source": [
    "### 1.1. Importando base de dados\n",
    "\n",
    "Imagine que uma empresa de telecomunicações deseja segmentar sua base de clientes por padrões de uso de serviço, categorizando seus clientes em 4 grupos. Se, em sua base de dados, forem identificados clientes concentrados em uma região, por exemplo, a empresa pode passar a oferecer ofertas customizadas para potenciais clientes daquela mesma região, que ainda não utilizam seus serviços. Esse é, portanto, um problema de classificação, em que os clientes da empresa possuem perfis bem estabelecidos e deseja-se saber se uma pessoa que ainda não é cliente da empresa pode se tornar, dado sua semelhança de perfil com clientes atuais.\n",
    "\n",
    "A base de dados possui dados como: região, idade, renda, gênero etc.\n",
    "\n",
    "O dado de interesse, segundo o qual serão realizadas as classificações, é a coluna **custcat**, que possui quatro possíveis valores:\n",
    " * 1- Serviço Básico\n",
    " * 2- Serviço Eletrônico\n",
    " * 3- Serviço Plus\n",
    " * 4- Serviço Total\n",
    "\n",
    "Nosso objetivo é criar um classificador para prever se uma pessoa que não é cliente da empresa possuiria interesse em um desses produtos."
   ]
  },
  {
   "cell_type": "code",
   "execution_count": 2,
   "id": "23799cd5",
   "metadata": {},
   "outputs": [
    {
     "data": {
      "text/html": [
       "<div>\n",
       "<style scoped>\n",
       "    .dataframe tbody tr th:only-of-type {\n",
       "        vertical-align: middle;\n",
       "    }\n",
       "\n",
       "    .dataframe tbody tr th {\n",
       "        vertical-align: top;\n",
       "    }\n",
       "\n",
       "    .dataframe thead th {\n",
       "        text-align: right;\n",
       "    }\n",
       "</style>\n",
       "<table border=\"1\" class=\"dataframe\">\n",
       "  <thead>\n",
       "    <tr style=\"text-align: right;\">\n",
       "      <th></th>\n",
       "      <th>region</th>\n",
       "      <th>tenure</th>\n",
       "      <th>age</th>\n",
       "      <th>marital</th>\n",
       "      <th>address</th>\n",
       "      <th>income</th>\n",
       "      <th>ed</th>\n",
       "      <th>employ</th>\n",
       "      <th>retire</th>\n",
       "      <th>gender</th>\n",
       "      <th>reside</th>\n",
       "      <th>custcat</th>\n",
       "    </tr>\n",
       "  </thead>\n",
       "  <tbody>\n",
       "    <tr>\n",
       "      <th>0</th>\n",
       "      <td>2</td>\n",
       "      <td>13</td>\n",
       "      <td>44</td>\n",
       "      <td>1</td>\n",
       "      <td>9</td>\n",
       "      <td>64.0</td>\n",
       "      <td>4</td>\n",
       "      <td>5</td>\n",
       "      <td>0.0</td>\n",
       "      <td>0</td>\n",
       "      <td>2</td>\n",
       "      <td>1</td>\n",
       "    </tr>\n",
       "    <tr>\n",
       "      <th>1</th>\n",
       "      <td>3</td>\n",
       "      <td>11</td>\n",
       "      <td>33</td>\n",
       "      <td>1</td>\n",
       "      <td>7</td>\n",
       "      <td>136.0</td>\n",
       "      <td>5</td>\n",
       "      <td>5</td>\n",
       "      <td>0.0</td>\n",
       "      <td>0</td>\n",
       "      <td>6</td>\n",
       "      <td>4</td>\n",
       "    </tr>\n",
       "    <tr>\n",
       "      <th>2</th>\n",
       "      <td>3</td>\n",
       "      <td>68</td>\n",
       "      <td>52</td>\n",
       "      <td>1</td>\n",
       "      <td>24</td>\n",
       "      <td>116.0</td>\n",
       "      <td>1</td>\n",
       "      <td>29</td>\n",
       "      <td>0.0</td>\n",
       "      <td>1</td>\n",
       "      <td>2</td>\n",
       "      <td>3</td>\n",
       "    </tr>\n",
       "    <tr>\n",
       "      <th>3</th>\n",
       "      <td>2</td>\n",
       "      <td>33</td>\n",
       "      <td>33</td>\n",
       "      <td>0</td>\n",
       "      <td>12</td>\n",
       "      <td>33.0</td>\n",
       "      <td>2</td>\n",
       "      <td>0</td>\n",
       "      <td>0.0</td>\n",
       "      <td>1</td>\n",
       "      <td>1</td>\n",
       "      <td>1</td>\n",
       "    </tr>\n",
       "    <tr>\n",
       "      <th>4</th>\n",
       "      <td>2</td>\n",
       "      <td>23</td>\n",
       "      <td>30</td>\n",
       "      <td>1</td>\n",
       "      <td>9</td>\n",
       "      <td>30.0</td>\n",
       "      <td>1</td>\n",
       "      <td>2</td>\n",
       "      <td>0.0</td>\n",
       "      <td>0</td>\n",
       "      <td>4</td>\n",
       "      <td>3</td>\n",
       "    </tr>\n",
       "  </tbody>\n",
       "</table>\n",
       "</div>"
      ],
      "text/plain": [
       "   region  tenure  age  marital  address  income  ed  employ  retire  gender  \\\n",
       "0       2      13   44        1        9    64.0   4       5     0.0       0   \n",
       "1       3      11   33        1        7   136.0   5       5     0.0       0   \n",
       "2       3      68   52        1       24   116.0   1      29     0.0       1   \n",
       "3       2      33   33        0       12    33.0   2       0     0.0       1   \n",
       "4       2      23   30        1        9    30.0   1       2     0.0       0   \n",
       "\n",
       "   reside  custcat  \n",
       "0       2        1  \n",
       "1       6        4  \n",
       "2       2        3  \n",
       "3       1        1  \n",
       "4       4        3  "
      ]
     },
     "execution_count": 2,
     "metadata": {},
     "output_type": "execute_result"
    }
   ],
   "source": [
    "df = pd.read_csv('teleCust1000t.csv')\n",
    "df.head()"
   ]
  },
  {
   "cell_type": "code",
   "execution_count": 3,
   "id": "d1c5f6c3",
   "metadata": {},
   "outputs": [
    {
     "data": {
      "text/plain": [
       "array([[<AxesSubplot:title={'center':'income'}>]], dtype=object)"
      ]
     },
     "execution_count": 3,
     "metadata": {},
     "output_type": "execute_result"
    },
    {
     "data": {
      "image/png": "[encoded data removed]",
      "text/plain": [
       "<Figure size 432x288 with 1 Axes>"
      ]
     },
     "metadata": {
      "needs_background": "light"
     },
     "output_type": "display_data"
    },
    {
     "data": {
      "image/png": "[encoded data removed]",
      "text/plain": [
       "<Figure size 432x288 with 1 Axes>"
      ]
     },
     "metadata": {
      "needs_background": "light"
     },
     "output_type": "display_data"
    }
   ],
   "source": [
    "# Observe a diferença entre o perfil de renda do grupo 1 e do grupo 2.\n",
    "df[df['custcat'] == 1].hist(column='income', bins=50)\n",
    "df[df['custcat'] == 2].hist(column='income', bins=50)"
   ]
  },
  {
   "cell_type": "markdown",
   "id": "5832c3aa",
   "metadata": {},
   "source": [
    "### 1.2. Preparando dados de treino e teste"
   ]
  },
  {
   "cell_type": "code",
   "execution_count": 4,
   "id": "a3e325e1",
   "metadata": {},
   "outputs": [
    {
     "name": "stdout",
     "output_type": "stream",
     "text": [
      "Train set: (800, 10) (800,)\n",
      "Test set: (200, 10) (200,)\n"
     ]
    }
   ],
   "source": [
    "from sklearn.model_selection import train_test_split\n",
    "from sklearn import preprocessing\n",
    "\n",
    "# Criando variáveis dependentes e independentes\n",
    "X = df[['region', 'tenure','age', 'address', 'income', 'ed', 'employ','retire', 'gender', 'reside']].values\n",
    "y = df['custcat'].values\n",
    "\n",
    "# Normalizando os valores\n",
    "# O link para a documentação é: https://scikit-learn.org/stable/modules/generated/sklearn.preprocessing.StandardScaler.html\n",
    "X = preprocessing.StandardScaler().fit(X).transform(X.astype(float))\n",
    "\n",
    "# Utilizando a biblioteca sklearn para separar os dados aleatoriamente entre teste e treino\n",
    "X_train, X_test, y_train, y_test = train_test_split( X, y, test_size=0.2, random_state=4)\n",
    "\n",
    "# Resultado do pré-processamento\n",
    "print ('Train set:', X_train.shape,  y_train.shape)\n",
    "print ('Test set:', X_test.shape,  y_test.shape)"
   ]
  },
  {
   "cell_type": "markdown",
   "id": "3b0df8fb",
   "metadata": {},
   "source": [
    "### 1.3. Criando modelo\n",
    "\n",
    "A criação de um modelo knn é extremamente simples, precisamos fornecer ao algoritmo apenas o valor de k e inserir os dados de treino e teste."
   ]
  },
  {
   "cell_type": "code",
   "execution_count": 5,
   "id": "ed6b6432",
   "metadata": {},
   "outputs": [],
   "source": [
    "from sklearn.neighbors import KNeighborsClassifier\n",
    "\n",
    "# O modelo do algoritmo vizinho mais próximo pode ser encontrado em: \n",
    "# https://scikit-learn.org/stable/modules/generated/sklearn.neighbors.KNeighborsClassifier.html#sklearn.neighbors.KNeighborsClassifier\n",
    "k = 9 \n",
    "neigh = KNeighborsClassifier(n_neighbors = k).fit(X_train,y_train)\n",
    "yhat = neigh.predict(X_test)"
   ]
  },
  {
   "cell_type": "markdown",
   "id": "e38780ac",
   "metadata": {},
   "source": [
    "### 1.4. Avaliando modelo\n",
    "\n",
    "Aqui, utilizaremos a métrica de precisão de classificação do algoritmo para os dados de treino e para os dados de teste.\n",
    "\n",
    "Note que a precisão obtida é relativamente baixa, o que é comum para classificações que não possuem delimitações numéricas tão bem definidas. Além disso, foram utilizados todos os dados da base, onde um dado pouco útil tem a mesma relevância que um dado útil."
   ]
  },
  {
   "cell_type": "code",
   "execution_count": 6,
   "id": "50cda4e4",
   "metadata": {},
   "outputs": [
    {
     "name": "stdout",
     "output_type": "stream",
     "text": [
      "              precision    recall  f1-score   support\n",
      "\n",
      "           1       0.33      0.45      0.38        51\n",
      "           2       0.34      0.36      0.35        44\n",
      "           3       0.39      0.31      0.35        54\n",
      "           4       0.25      0.20      0.22        51\n",
      "\n",
      "    accuracy                           0.33       200\n",
      "   macro avg       0.33      0.33      0.33       200\n",
      "weighted avg       0.33      0.33      0.32       200\n",
      "\n"
     ]
    },
    {
     "data": {
      "text/plain": [
       "<sklearn.metrics._plot.confusion_matrix.ConfusionMatrixDisplay at 0x1efba507460>"
      ]
     },
     "execution_count": 6,
     "metadata": {},
     "output_type": "execute_result"
    },
    {
     "data": {
      "image/png": "[encoded data removed]",
      "text/plain": [
       "<Figure size 432x288 with 2 Axes>"
      ]
     },
     "metadata": {
      "needs_background": "light"
     },
     "output_type": "display_data"
    }
   ],
   "source": [
    "from sklearn import metrics\n",
    "from sklearn.metrics import confusion_matrix\n",
    "\n",
    "# Para avaliar o modelo, utilizaremos apenas a acurácia, dada pela função metrics.accuracy_score\n",
    "# O link para a documentação é: https://scikit-learn.org/stable/modules/model_evaluation.html\n",
    "print (metrics.classification_report(y_test, yhat))\n",
    "\n",
    "# Criando matriz de confusão\n",
    "cnf_matrix = confusion_matrix(y_test, yhat, labels=[2,4])\n",
    "#np.set_printoptions(precision=2)\n",
    "\n",
    "# Exibindo matriz de confusão\n",
    "disp = metrics.ConfusionMatrixDisplay(cnf_matrix)\n",
    "disp.plot()"
   ]
  },
  {
   "cell_type": "markdown",
   "id": "f8d25a53",
   "metadata": {},
   "source": [
    "### 2. Árvores de decisão\n",
    "\n",
    "A árvore de decisão cria um diagrama em forma de árvore, separando os dados de acordo com o quanto aquele dado minimiza o grau de entropia do sistema. \n",
    "\n",
    "Ou seja, se separar os dados por renda gerar grupos mais próximos de possuírem uma  classificação única, o algoritmo criará dois ramos que subdividem o grupo inicial, até chegar na classificação julgada correta pelo algoritmo. O objetivo do algoritmo é descobrir quais os valores ideais para cada nó que seja capaz de dividir a árvore em ramos e chegar na classificação correta. "
   ]
  },
  {
   "cell_type": "markdown",
   "id": "77cd8d09",
   "metadata": {},
   "source": [
    "### 2.1. Importando a base de dados\n",
    "\n",
    "Nós trabalharemos com uma base de dados gerado por uma pesquisa médica. Os dados foram coletados de diversos pacientes que sofrem da mesma doença. Durante o tratamento, cada paciente respondeu melhor a um dos 5 medicamentos, entre: Drug A, Drug B, Drug C, Drug X and Drug Y.\n",
    "\n",
    "Seu trabalho é descobrir qual medicamento é mais apropriado para um paciente futuro que possui as mesmas características e mesma doença. A base de dados contém dados sobre Idade (Age), Sexo (Sex), Pressão Sanguínea (BP) e Colesterol (Cholesterol). A variável dependente é o medicamento ao qual cada paciente respondeu melhor."
   ]
  },
  {
   "cell_type": "code",
   "execution_count": 7,
   "id": "b2170910",
   "metadata": {},
   "outputs": [
    {
     "data": {
      "text/html": [
       "<div>\n",
       "<style scoped>\n",
       "    .dataframe tbody tr th:only-of-type {\n",
       "        vertical-align: middle;\n",
       "    }\n",
       "\n",
       "    .dataframe tbody tr th {\n",
       "        vertical-align: top;\n",
       "    }\n",
       "\n",
       "    .dataframe thead th {\n",
       "        text-align: right;\n",
       "    }\n",
       "</style>\n",
       "<table border=\"1\" class=\"dataframe\">\n",
       "  <thead>\n",
       "    <tr style=\"text-align: right;\">\n",
       "      <th></th>\n",
       "      <th>Age</th>\n",
       "      <th>Sex</th>\n",
       "      <th>BP</th>\n",
       "      <th>Cholesterol</th>\n",
       "      <th>Na_to_K</th>\n",
       "      <th>Drug</th>\n",
       "    </tr>\n",
       "  </thead>\n",
       "  <tbody>\n",
       "    <tr>\n",
       "      <th>0</th>\n",
       "      <td>23</td>\n",
       "      <td>F</td>\n",
       "      <td>HIGH</td>\n",
       "      <td>HIGH</td>\n",
       "      <td>25.355</td>\n",
       "      <td>drugY</td>\n",
       "    </tr>\n",
       "    <tr>\n",
       "      <th>1</th>\n",
       "      <td>47</td>\n",
       "      <td>M</td>\n",
       "      <td>LOW</td>\n",
       "      <td>HIGH</td>\n",
       "      <td>13.093</td>\n",
       "      <td>drugC</td>\n",
       "    </tr>\n",
       "    <tr>\n",
       "      <th>2</th>\n",
       "      <td>47</td>\n",
       "      <td>M</td>\n",
       "      <td>LOW</td>\n",
       "      <td>HIGH</td>\n",
       "      <td>10.114</td>\n",
       "      <td>drugC</td>\n",
       "    </tr>\n",
       "    <tr>\n",
       "      <th>3</th>\n",
       "      <td>28</td>\n",
       "      <td>F</td>\n",
       "      <td>NORMAL</td>\n",
       "      <td>HIGH</td>\n",
       "      <td>7.798</td>\n",
       "      <td>drugX</td>\n",
       "    </tr>\n",
       "    <tr>\n",
       "      <th>4</th>\n",
       "      <td>61</td>\n",
       "      <td>F</td>\n",
       "      <td>LOW</td>\n",
       "      <td>HIGH</td>\n",
       "      <td>18.043</td>\n",
       "      <td>drugY</td>\n",
       "    </tr>\n",
       "  </tbody>\n",
       "</table>\n",
       "</div>"
      ],
      "text/plain": [
       "   Age Sex      BP Cholesterol  Na_to_K   Drug\n",
       "0   23   F    HIGH        HIGH   25.355  drugY\n",
       "1   47   M     LOW        HIGH   13.093  drugC\n",
       "2   47   M     LOW        HIGH   10.114  drugC\n",
       "3   28   F  NORMAL        HIGH    7.798  drugX\n",
       "4   61   F     LOW        HIGH   18.043  drugY"
      ]
     },
     "execution_count": 7,
     "metadata": {},
     "output_type": "execute_result"
    }
   ],
   "source": [
    "my_data = pd.read_csv(\"drug200.csv\", delimiter=\",\")\n",
    "my_data.head()"
   ]
  },
  {
   "cell_type": "markdown",
   "id": "9ea9aefc",
   "metadata": {},
   "source": [
    "### 2.2. Pré-processando a base\n",
    "\n",
    "Para que o algoritmo seja capaz de encontrar os melhores parâmetros e criar a árvore de decisão, os dados recebidos precisam ser todos numéricos. Então o código abaixo transforma todos as categorias de strings para inteiros."
   ]
  },
  {
   "cell_type": "code",
   "execution_count": 8,
   "id": "3986790d",
   "metadata": {},
   "outputs": [],
   "source": [
    "from sklearn import preprocessing\n",
    "from sklearn.model_selection import train_test_split\n",
    "\n",
    "# Definindo quais serão as variáveis dependente e independentes\n",
    "X = my_data[['Age', 'Sex', 'BP', 'Cholesterol', 'Na_to_K']].values\n",
    "y = my_data[\"Drug\"]\n",
    "\n",
    "# Transformando dados categóricos em numéricos com a função 'LabelEncoder', que realiza o processo automaticamente\n",
    "# O link para a documentação é: https://scikit-learn.org/stable/modules/generated/sklearn.preprocessing.LabelEncoder.html\n",
    "le_sex = preprocessing.LabelEncoder().fit(['F','M'])\n",
    "X[:,1] = le_sex.transform(X[:,1]) \n",
    "le_BP = preprocessing.LabelEncoder().fit([ 'LOW', 'NORMAL', 'HIGH'])\n",
    "X[:,2] = le_BP.transform(X[:,2])\n",
    "le_Chol = preprocessing.LabelEncoder().fit([ 'NORMAL', 'HIGH'])\n",
    "X[:,3] = le_Chol.transform(X[:,3]) \n",
    "\n",
    "# Separando os dados entre dados de treino e teste com a função 'train_test_split' que realiza o processo automaticamente\n",
    "# O link para a documentação é: https://scikit-learn.org/stable/modules/generated/sklearn.model_selection.train_test_split.html\n",
    "X_trainset, X_testset, y_trainset, y_testset = train_test_split(X, y, test_size=0.3, random_state=3)"
   ]
  },
  {
   "cell_type": "markdown",
   "id": "5bde13d3",
   "metadata": {},
   "source": [
    "### 2.3. Criando o modelo"
   ]
  },
  {
   "cell_type": "code",
   "execution_count": 9,
   "id": "35ddad35",
   "metadata": {},
   "outputs": [],
   "source": [
    "from sklearn.tree import DecisionTreeClassifier\n",
    "import sklearn.tree as tree\n",
    "\n",
    "# O modelo da árvore de decisão pode ser encontrado em: \n",
    "# https://scikit-learn.org/stable/modules/generated/sklearn.tree.DecisionTreeClassifier.html#sklearn.tree.DecisionTreeClassifier\n",
    "drugTree = DecisionTreeClassifier(criterion=\"entropy\", max_depth = 4)\n",
    "drugTree.fit(X_trainset,y_trainset)\n",
    "predTree = drugTree.predict(X_testset)"
   ]
  },
  {
   "cell_type": "markdown",
   "id": "a592f7b0",
   "metadata": {},
   "source": [
    "### 2.4. Avaliando e Visualizando resultados"
   ]
  },
  {
   "cell_type": "code",
   "execution_count": 10,
   "id": "e441c7d7",
   "metadata": {},
   "outputs": [
    {
     "data": {
      "image/png": "[encoded data removed]",
      "text/plain": [
       "<Figure size 432x288 with 1 Axes>"
      ]
     },
     "metadata": {
      "needs_background": "light"
     },
     "output_type": "display_data"
    },
    {
     "name": "stdout",
     "output_type": "stream",
     "text": [
      "              precision    recall  f1-score   support\n",
      "\n",
      "       drugA       1.00      1.00      1.00         7\n",
      "       drugB       1.00      1.00      1.00         5\n",
      "       drugC       1.00      1.00      1.00         5\n",
      "       drugX       1.00      0.95      0.98        21\n",
      "       drugY       0.96      1.00      0.98        22\n",
      "\n",
      "    accuracy                           0.98        60\n",
      "   macro avg       0.99      0.99      0.99        60\n",
      "weighted avg       0.98      0.98      0.98        60\n",
      "\n"
     ]
    }
   ],
   "source": [
    "# A biblioteca também fornece uma forma de visualizar o resultado automaticamente, com a função plot_tree, disponível em:\n",
    "# https://scikit-learn.org/stable/modules/generated/sklearn.tree.plot_tree.html#sklearn.tree.plot_tree\n",
    "tree.plot_tree(drugTree)\n",
    "plt.show()\n",
    "\n",
    "# Exibindo relatório com métricas de avaliação\n",
    "print (metrics.classification_report(y_testset, predTree))\n",
    "\n",
    "# Obs: Nesse caso, não será gerada a matriz de confusão porque existem mais de duas classificações possíveis"
   ]
  },
  {
   "cell_type": "markdown",
   "id": "f9b35be6",
   "metadata": {},
   "source": [
    "### 3. Regressão Logística\n",
    "\n",
    "Apesar de possuir o nome de regressão e utilizar um regressor para traçar uma curva, a regressão logística é um algoritmo para classificação. Os valores encontrados na regressão são interpretados como probabilidades, após predizer a probabilidade de um dado ponto ter classe positiva, o algoritmo precisa classificar esse ponto. Para fazer isso, simplesmente escolhemos a classe mais provável: se p > 0,5, a classe predita é positiva; caso contrário, é negativa. Assim como em uma regressão comum, o objetivo do algoritmo é encontrar os melhores coeficientes para traçar a curva ideal que se adeque aos dados."
   ]
  },
  {
   "cell_type": "markdown",
   "id": "cbe1060d",
   "metadata": {},
   "source": [
    "### 3.1. Importando a base de dados\n",
    "\n",
    "Utilizaremos uma base de dados de uma empresa de telecomunicações para prever cancelamentos de serviço. Cada linha representa um consumidor. Tendo em vista que a empresa deseja manter seus clientes, o foco da análise é prever consumidores com maior probabilidade de permanecer na empresa, com o objetivo de ajudar a prever qual comportamento ajudará a reter os consumidores.\n",
    "\n",
    "A base contém informações sobre:\n",
    "* Consumidores que deixaram no último mês ('churn')\n",
    "* Serviços que cada consumidor assinou - telefone, itens múltiplos, internet, segurança online, backup online, proteção de dispositivo, suporte e streaming.\n",
    "* Conta do usuário - quanto tempo é cliente, contrato, método de pagamento etc.\n",
    "* Dados pessoais - gênero, faixa de idade, se possuem cônjugue."
   ]
  },
  {
   "cell_type": "code",
   "execution_count": 11,
   "id": "5b0cae72",
   "metadata": {},
   "outputs": [
    {
     "data": {
      "text/html": [
       "<div>\n",
       "<style scoped>\n",
       "    .dataframe tbody tr th:only-of-type {\n",
       "        vertical-align: middle;\n",
       "    }\n",
       "\n",
       "    .dataframe tbody tr th {\n",
       "        vertical-align: top;\n",
       "    }\n",
       "\n",
       "    .dataframe thead th {\n",
       "        text-align: right;\n",
       "    }\n",
       "</style>\n",
       "<table border=\"1\" class=\"dataframe\">\n",
       "  <thead>\n",
       "    <tr style=\"text-align: right;\">\n",
       "      <th></th>\n",
       "      <th>tenure</th>\n",
       "      <th>age</th>\n",
       "      <th>address</th>\n",
       "      <th>income</th>\n",
       "      <th>ed</th>\n",
       "      <th>employ</th>\n",
       "      <th>equip</th>\n",
       "      <th>callcard</th>\n",
       "      <th>wireless</th>\n",
       "      <th>longmon</th>\n",
       "      <th>...</th>\n",
       "      <th>pager</th>\n",
       "      <th>internet</th>\n",
       "      <th>callwait</th>\n",
       "      <th>confer</th>\n",
       "      <th>ebill</th>\n",
       "      <th>loglong</th>\n",
       "      <th>logtoll</th>\n",
       "      <th>lninc</th>\n",
       "      <th>custcat</th>\n",
       "      <th>churn</th>\n",
       "    </tr>\n",
       "  </thead>\n",
       "  <tbody>\n",
       "    <tr>\n",
       "      <th>0</th>\n",
       "      <td>11.0</td>\n",
       "      <td>33.0</td>\n",
       "      <td>7.0</td>\n",
       "      <td>136.0</td>\n",
       "      <td>5.0</td>\n",
       "      <td>5.0</td>\n",
       "      <td>0.0</td>\n",
       "      <td>1.0</td>\n",
       "      <td>1.0</td>\n",
       "      <td>4.40</td>\n",
       "      <td>...</td>\n",
       "      <td>1.0</td>\n",
       "      <td>0.0</td>\n",
       "      <td>1.0</td>\n",
       "      <td>1.0</td>\n",
       "      <td>0.0</td>\n",
       "      <td>1.482</td>\n",
       "      <td>3.033</td>\n",
       "      <td>4.913</td>\n",
       "      <td>4.0</td>\n",
       "      <td>1.0</td>\n",
       "    </tr>\n",
       "    <tr>\n",
       "      <th>1</th>\n",
       "      <td>33.0</td>\n",
       "      <td>33.0</td>\n",
       "      <td>12.0</td>\n",
       "      <td>33.0</td>\n",
       "      <td>2.0</td>\n",
       "      <td>0.0</td>\n",
       "      <td>0.0</td>\n",
       "      <td>0.0</td>\n",
       "      <td>0.0</td>\n",
       "      <td>9.45</td>\n",
       "      <td>...</td>\n",
       "      <td>0.0</td>\n",
       "      <td>0.0</td>\n",
       "      <td>0.0</td>\n",
       "      <td>0.0</td>\n",
       "      <td>0.0</td>\n",
       "      <td>2.246</td>\n",
       "      <td>3.240</td>\n",
       "      <td>3.497</td>\n",
       "      <td>1.0</td>\n",
       "      <td>1.0</td>\n",
       "    </tr>\n",
       "    <tr>\n",
       "      <th>2</th>\n",
       "      <td>23.0</td>\n",
       "      <td>30.0</td>\n",
       "      <td>9.0</td>\n",
       "      <td>30.0</td>\n",
       "      <td>1.0</td>\n",
       "      <td>2.0</td>\n",
       "      <td>0.0</td>\n",
       "      <td>0.0</td>\n",
       "      <td>0.0</td>\n",
       "      <td>6.30</td>\n",
       "      <td>...</td>\n",
       "      <td>0.0</td>\n",
       "      <td>0.0</td>\n",
       "      <td>0.0</td>\n",
       "      <td>1.0</td>\n",
       "      <td>0.0</td>\n",
       "      <td>1.841</td>\n",
       "      <td>3.240</td>\n",
       "      <td>3.401</td>\n",
       "      <td>3.0</td>\n",
       "      <td>0.0</td>\n",
       "    </tr>\n",
       "    <tr>\n",
       "      <th>3</th>\n",
       "      <td>38.0</td>\n",
       "      <td>35.0</td>\n",
       "      <td>5.0</td>\n",
       "      <td>76.0</td>\n",
       "      <td>2.0</td>\n",
       "      <td>10.0</td>\n",
       "      <td>1.0</td>\n",
       "      <td>1.0</td>\n",
       "      <td>1.0</td>\n",
       "      <td>6.05</td>\n",
       "      <td>...</td>\n",
       "      <td>1.0</td>\n",
       "      <td>1.0</td>\n",
       "      <td>1.0</td>\n",
       "      <td>1.0</td>\n",
       "      <td>1.0</td>\n",
       "      <td>1.800</td>\n",
       "      <td>3.807</td>\n",
       "      <td>4.331</td>\n",
       "      <td>4.0</td>\n",
       "      <td>0.0</td>\n",
       "    </tr>\n",
       "    <tr>\n",
       "      <th>4</th>\n",
       "      <td>7.0</td>\n",
       "      <td>35.0</td>\n",
       "      <td>14.0</td>\n",
       "      <td>80.0</td>\n",
       "      <td>2.0</td>\n",
       "      <td>15.0</td>\n",
       "      <td>0.0</td>\n",
       "      <td>1.0</td>\n",
       "      <td>0.0</td>\n",
       "      <td>7.10</td>\n",
       "      <td>...</td>\n",
       "      <td>0.0</td>\n",
       "      <td>0.0</td>\n",
       "      <td>1.0</td>\n",
       "      <td>1.0</td>\n",
       "      <td>0.0</td>\n",
       "      <td>1.960</td>\n",
       "      <td>3.091</td>\n",
       "      <td>4.382</td>\n",
       "      <td>3.0</td>\n",
       "      <td>0.0</td>\n",
       "    </tr>\n",
       "  </tbody>\n",
       "</table>\n",
       "<p>5 rows × 28 columns</p>\n",
       "</div>"
      ],
      "text/plain": [
       "   tenure   age  address  income   ed  employ  equip  callcard  wireless  \\\n",
       "0    11.0  33.0      7.0   136.0  5.0     5.0    0.0       1.0       1.0   \n",
       "1    33.0  33.0     12.0    33.0  2.0     0.0    0.0       0.0       0.0   \n",
       "2    23.0  30.0      9.0    30.0  1.0     2.0    0.0       0.0       0.0   \n",
       "3    38.0  35.0      5.0    76.0  2.0    10.0    1.0       1.0       1.0   \n",
       "4     7.0  35.0     14.0    80.0  2.0    15.0    0.0       1.0       0.0   \n",
       "\n",
       "   longmon  ...  pager  internet  callwait  confer  ebill  loglong  logtoll  \\\n",
       "0     4.40  ...    1.0       0.0       1.0     1.0    0.0    1.482    3.033   \n",
       "1     9.45  ...    0.0       0.0       0.0     0.0    0.0    2.246    3.240   \n",
       "2     6.30  ...    0.0       0.0       0.0     1.0    0.0    1.841    3.240   \n",
       "3     6.05  ...    1.0       1.0       1.0     1.0    1.0    1.800    3.807   \n",
       "4     7.10  ...    0.0       0.0       1.0     1.0    0.0    1.960    3.091   \n",
       "\n",
       "   lninc  custcat  churn  \n",
       "0  4.913      4.0    1.0  \n",
       "1  3.497      1.0    1.0  \n",
       "2  3.401      3.0    0.0  \n",
       "3  4.331      4.0    0.0  \n",
       "4  4.382      3.0    0.0  \n",
       "\n",
       "[5 rows x 28 columns]"
      ]
     },
     "execution_count": 11,
     "metadata": {},
     "output_type": "execute_result"
    }
   ],
   "source": [
    "churn_df = pd.read_csv(\"ChurnData.csv\")\n",
    "churn_df.head()"
   ]
  },
  {
   "cell_type": "markdown",
   "id": "a6cc9a96",
   "metadata": {},
   "source": [
    "### 3.2. Pré-processando a base"
   ]
  },
  {
   "cell_type": "code",
   "execution_count": 12,
   "id": "73f81411",
   "metadata": {},
   "outputs": [],
   "source": [
    "churn_df = churn_df[['tenure', 'age', 'address', 'income', 'ed', 'employ', 'equip',   'callcard', 'wireless','churn']]\n",
    "churn_df['churn'] = churn_df['churn'].astype('int')\n",
    "\n",
    "# Definindo as variáveis dependentes e independentes\n",
    "X = np.asarray(churn_df[['tenure', 'age', 'address', 'income', 'ed', 'employ', 'equip']])\n",
    "y = np.asarray(churn_df['churn'])\n",
    "\n",
    "# Normalizando os valores\n",
    "X = preprocessing.StandardScaler().fit(X).transform(X)\n",
    "\n",
    "# Dividindo entre base de treino e teste\n",
    "X_train, X_test, y_train, y_test = train_test_split( X, y, test_size=0.2, random_state=4)"
   ]
  },
  {
   "cell_type": "markdown",
   "id": "f7d34cc9",
   "metadata": {},
   "source": [
    "### 3.3. Criando modelo\n",
    "\n"
   ]
  },
  {
   "cell_type": "code",
   "execution_count": 13,
   "id": "e4f19138",
   "metadata": {},
   "outputs": [],
   "source": [
    "from sklearn.linear_model import LogisticRegression\n",
    "\n",
    "# O modelo de Regressão Logística pode ser encontrado em: \n",
    "# https://scikit-learn.org/stable/modules/generated/sklearn.linear_model.LogisticRegression.html#sklearn.linear_model.LogisticRegression\n",
    "LR = LogisticRegression(C=0.01, solver='liblinear').fit(X_train,y_train)\n",
    "yhat = LR.predict(X_test)\n",
    "yhat_prob = LR.predict_proba(X_test)"
   ]
  },
  {
   "cell_type": "markdown",
   "id": "48ccf48e",
   "metadata": {},
   "source": [
    "### 3.4. Avaliando e Visualizando Resultados"
   ]
  },
  {
   "cell_type": "code",
   "execution_count": 14,
   "id": "2e0e25ab",
   "metadata": {},
   "outputs": [
    {
     "name": "stdout",
     "output_type": "stream",
     "text": [
      "              precision    recall  f1-score   support\n",
      "\n",
      "           0       0.73      0.96      0.83        25\n",
      "           1       0.86      0.40      0.55        15\n",
      "\n",
      "    accuracy                           0.75        40\n",
      "   macro avg       0.79      0.68      0.69        40\n",
      "weighted avg       0.78      0.75      0.72        40\n",
      "\n"
     ]
    },
    {
     "data": {
      "image/png": "[encoded data removed]",
      "text/plain": [
       "<Figure size 432x288 with 2 Axes>"
      ]
     },
     "metadata": {
      "needs_background": "light"
     },
     "output_type": "display_data"
    }
   ],
   "source": [
    "# Criando a matriz de confusão\n",
    "cnf_matrix = confusion_matrix(y_test, yhat, labels=[1,0])\n",
    "np.set_printoptions(precision=2)\n",
    "\n",
    "# Criando visualização da matriz obtida\n",
    "disp = metrics.ConfusionMatrixDisplay(cnf_matrix)\n",
    "disp.plot()\n",
    "\n",
    "# Imprimindo também um relatório com algumas métricas de avaliação\n",
    "print (metrics.classification_report(y_test, yhat))"
   ]
  },
  {
   "cell_type": "markdown",
   "id": "696c4a49",
   "metadata": {},
   "source": [
    "### 4. Máquina de vetores de suporte (SVM)\n",
    "\n",
    "Nesse algoritmo, plotamos cada item de dados como um ponto no espaço\n",
    "n-dimensional (onde n é o número de recursos que você tem), com o valor de cada recurso sendo o valor de uma determinada coordenada. \n",
    "\n",
    "O algoritmo SVM é responsável por encontrar a melhor fronteira de separação entre classes/rótulos possível para um dado conjunto de dados que sejam linearmente separáveis. Para o SVM, as diversas fronteiras de separação possíveis que são capazes de separar completamente as classes são chamadas de **hiperplanos.**\n",
    "\n",
    "Dessa forma, o SVM busca encontrar o melhor hiperplano para um dado *data set* \n",
    "cujas classes são linearmente separáveis. A mesma ideia utilizada para um espaço tridimensional pode ser expandida para N dimensões quaisquer, e a grande vantagem do SVM é de ser muito eficiente para um grande conjunto de dados diferentes, ou seja, de ser facilmente generalizável para encontrar hiperplanos em um espaço N-dimensional."
   ]
  },
  {
   "cell_type": "markdown",
   "id": "34f58821",
   "metadata": {},
   "source": [
    "### 4.1. Importando base de dados\n",
    "\n",
    "A base de dados que utilizaremos contém dados sobre centenas de células humanas, em que cada uma possui diversas características, são elas:\n",
    "\n",
    "| Nome da coluna  | Descrição                 |\n",
    "| -----------     | --------------------------- |\n",
    "| Clump           | Espessura das células             |\n",
    "| UnifSize        | Uniformidade no tamanho da célula     |\n",
    "| UnifShape       | Uniformidade no formato da célula    |\n",
    "| MargAdh         | Adesão Marginal           |\n",
    "| SingEpiSize     | Tamanho individual da célula epitelial |\n",
    "| BareNuc         | Bare nuclei                 |\n",
    "| BlandChrom      | Bland chromatin             |\n",
    "| NormNucl        | Normal nucleoli             |\n",
    "| Mit            | Mitose                  |\n",
    "| Class       | Benigno ou Maligno         |\n",
    "\n",
    "O objetivo do algoritmo é prever se uma determinada célula é benigna ou maligna, com base nas informações sobre a célula."
   ]
  },
  {
   "cell_type": "code",
   "execution_count": 15,
   "id": "c703ee20",
   "metadata": {},
   "outputs": [
    {
     "data": {
      "text/html": [
       "<div>\n",
       "<style scoped>\n",
       "    .dataframe tbody tr th:only-of-type {\n",
       "        vertical-align: middle;\n",
       "    }\n",
       "\n",
       "    .dataframe tbody tr th {\n",
       "        vertical-align: top;\n",
       "    }\n",
       "\n",
       "    .dataframe thead th {\n",
       "        text-align: right;\n",
       "    }\n",
       "</style>\n",
       "<table border=\"1\" class=\"dataframe\">\n",
       "  <thead>\n",
       "    <tr style=\"text-align: right;\">\n",
       "      <th></th>\n",
       "      <th>ID</th>\n",
       "      <th>Clump</th>\n",
       "      <th>UnifSize</th>\n",
       "      <th>UnifShape</th>\n",
       "      <th>MargAdh</th>\n",
       "      <th>SingEpiSize</th>\n",
       "      <th>BareNuc</th>\n",
       "      <th>BlandChrom</th>\n",
       "      <th>NormNucl</th>\n",
       "      <th>Mit</th>\n",
       "      <th>Class</th>\n",
       "    </tr>\n",
       "  </thead>\n",
       "  <tbody>\n",
       "    <tr>\n",
       "      <th>0</th>\n",
       "      <td>1000025</td>\n",
       "      <td>5</td>\n",
       "      <td>1</td>\n",
       "      <td>1</td>\n",
       "      <td>1</td>\n",
       "      <td>2</td>\n",
       "      <td>1</td>\n",
       "      <td>3</td>\n",
       "      <td>1</td>\n",
       "      <td>1</td>\n",
       "      <td>2</td>\n",
       "    </tr>\n",
       "    <tr>\n",
       "      <th>1</th>\n",
       "      <td>1002945</td>\n",
       "      <td>5</td>\n",
       "      <td>4</td>\n",
       "      <td>4</td>\n",
       "      <td>5</td>\n",
       "      <td>7</td>\n",
       "      <td>10</td>\n",
       "      <td>3</td>\n",
       "      <td>2</td>\n",
       "      <td>1</td>\n",
       "      <td>2</td>\n",
       "    </tr>\n",
       "    <tr>\n",
       "      <th>2</th>\n",
       "      <td>1015425</td>\n",
       "      <td>3</td>\n",
       "      <td>1</td>\n",
       "      <td>1</td>\n",
       "      <td>1</td>\n",
       "      <td>2</td>\n",
       "      <td>2</td>\n",
       "      <td>3</td>\n",
       "      <td>1</td>\n",
       "      <td>1</td>\n",
       "      <td>2</td>\n",
       "    </tr>\n",
       "    <tr>\n",
       "      <th>3</th>\n",
       "      <td>1016277</td>\n",
       "      <td>6</td>\n",
       "      <td>8</td>\n",
       "      <td>8</td>\n",
       "      <td>1</td>\n",
       "      <td>3</td>\n",
       "      <td>4</td>\n",
       "      <td>3</td>\n",
       "      <td>7</td>\n",
       "      <td>1</td>\n",
       "      <td>2</td>\n",
       "    </tr>\n",
       "    <tr>\n",
       "      <th>4</th>\n",
       "      <td>1017023</td>\n",
       "      <td>4</td>\n",
       "      <td>1</td>\n",
       "      <td>1</td>\n",
       "      <td>3</td>\n",
       "      <td>2</td>\n",
       "      <td>1</td>\n",
       "      <td>3</td>\n",
       "      <td>1</td>\n",
       "      <td>1</td>\n",
       "      <td>2</td>\n",
       "    </tr>\n",
       "  </tbody>\n",
       "</table>\n",
       "</div>"
      ],
      "text/plain": [
       "        ID  Clump  UnifSize  UnifShape  MargAdh  SingEpiSize BareNuc  \\\n",
       "0  1000025      5         1          1        1            2       1   \n",
       "1  1002945      5         4          4        5            7      10   \n",
       "2  1015425      3         1          1        1            2       2   \n",
       "3  1016277      6         8          8        1            3       4   \n",
       "4  1017023      4         1          1        3            2       1   \n",
       "\n",
       "   BlandChrom  NormNucl  Mit  Class  \n",
       "0           3         1    1      2  \n",
       "1           3         2    1      2  \n",
       "2           3         1    1      2  \n",
       "3           3         7    1      2  \n",
       "4           3         1    1      2  "
      ]
     },
     "execution_count": 15,
     "metadata": {},
     "output_type": "execute_result"
    }
   ],
   "source": [
    "cell_df = pd.read_csv(\"cell_samples.csv\")\n",
    "cell_df.head()"
   ]
  },
  {
   "cell_type": "markdown",
   "id": "2e9c5034",
   "metadata": {},
   "source": [
    "### 4.2. Realizando pré-processamento"
   ]
  },
  {
   "cell_type": "code",
   "execution_count": 16,
   "id": "a950a753",
   "metadata": {},
   "outputs": [],
   "source": [
    "cell_df = cell_df[pd.to_numeric(cell_df['BareNuc'], errors='coerce').notnull()]\n",
    "cell_df['BareNuc'] = cell_df['BareNuc'].astype('int')\n",
    "\n",
    "# Definindo variáveis dependentes e independentes\n",
    "X = np.asarray(cell_df[['Clump', 'UnifSize', 'UnifShape', 'MargAdh', 'SingEpiSize', 'BareNuc', 'BlandChrom', 'NormNucl', 'Mit']])\n",
    "y = np.asarray(cell_df['Class'].astype('int'))\n",
    "\n",
    "# Separando dados de treino e teste\n",
    "X_train, X_test, y_train, y_test = train_test_split( X, y, test_size=0.2, random_state=4)"
   ]
  },
  {
   "cell_type": "markdown",
   "id": "2802a7ff",
   "metadata": {},
   "source": [
    "### 4.3. Aplicando modelo"
   ]
  },
  {
   "cell_type": "code",
   "execution_count": 17,
   "id": "64525f6e",
   "metadata": {},
   "outputs": [],
   "source": [
    "from sklearn import svm\n",
    "\n",
    "# O modelo de Regressão Logística pode ser encontrado em:\n",
    "# https://scikit-learn.org/stable/modules/generated/sklearn.svm.SVC.html\n",
    "clf = svm.SVC(kernel='rbf')\n",
    "clf.fit(X_train, y_train) \n",
    "yhat = clf.predict(X_test)"
   ]
  },
  {
   "cell_type": "markdown",
   "id": "15192149",
   "metadata": {},
   "source": [
    "### 4.4. Avaliando e Visualizando modelo"
   ]
  },
  {
   "cell_type": "code",
   "execution_count": 18,
   "id": "dc29b88c",
   "metadata": {},
   "outputs": [
    {
     "name": "stdout",
     "output_type": "stream",
     "text": [
      "              precision    recall  f1-score   support\n",
      "\n",
      "           2       1.00      0.94      0.97        90\n",
      "           4       0.90      1.00      0.95        47\n",
      "\n",
      "    accuracy                           0.96       137\n",
      "   macro avg       0.95      0.97      0.96       137\n",
      "weighted avg       0.97      0.96      0.96       137\n",
      "\n"
     ]
    },
    {
     "data": {
      "image/png": "[encoded data removed]",
      "text/plain": [
       "<Figure size 432x288 with 2 Axes>"
      ]
     },
     "metadata": {
      "needs_background": "light"
     },
     "output_type": "display_data"
    }
   ],
   "source": [
    "# Criando matriz de confusão\n",
    "cnf_matrix = confusion_matrix(y_test, yhat, labels=[2,4])\n",
    "np.set_printoptions(precision=2)\n",
    "\n",
    "# Exibindo matriz de confusão\n",
    "disp = metrics.ConfusionMatrixDisplay(cnf_matrix)\n",
    "disp.plot()\n",
    "\n",
    "# Gerando relatório automático com algumas métricas\n",
    "print (metrics.classification_report(y_test, yhat))"
   ]
  }
 ],
 "metadata": {
  "kernelspec": {
   "display_name": "Python 3 (ipykernel)",
   "language": "python",
   "name": "python3"
  },
  "language_info": {
   "codemirror_mode": {
    "name": "ipython",
    "version": 3
   },
   "file_extension": ".py",
   "mimetype": "text/x-python",
   "name": "python",
   "nbconvert_exporter": "python",
   "pygments_lexer": "ipython3",
   "version": "3.9.7"
  }
 },
 "nbformat": 4,
 "nbformat_minor": 5
}
