{
 "cells": [
  {
   "cell_type": "markdown",
   "id": "f67b37da",
   "metadata": {},
   "source": [
    "# Regressões\n",
    "\n",
    "Neste módulo realizaremos o estudo de regressões, um conceito importantíssimo para algoritmos de machine learning.\n",
    "\n",
    "A análise por regressão é usada para prever o valor de uma variável com base no valor de outra. A variável que se deseja prever é chamada de variável dependente. A variável que é usada para prever o valor de outra variável é chamada de variável independente. \n",
    "\n",
    "A partir da relação encontrada entre a variável dependente e a independente, é possível prever o comportamento da variável dependente, dadas variações arbitrárias da variável independente.\n",
    "\n",
    "Os algoritmos de regressão buscam a curva que melhor se encaixa aos dados, utilizando, principalmente, o critério dos mínimos quadrados.\n",
    "\n",
    "Ao longo do capítulo detalharemos melhor alguns dos tipos de regressão mais comuns."
   ]
  },
  {
   "cell_type": "markdown",
   "id": "fed1d765",
   "metadata": {},
   "source": [
    "## Importando bibliotecas necessárias"
   ]
  },
  {
   "cell_type": "code",
   "execution_count": 1,
   "id": "93fa9195",
   "metadata": {},
   "outputs": [],
   "source": [
    "import matplotlib.pyplot as plt\n",
    "import pandas as pd\n",
    "import numpy as np\n",
    "%matplotlib inline"
   ]
  },
  {
   "cell_type": "markdown",
   "id": "5cf454e3",
   "metadata": {},
   "source": [
    "## Carregando base de dados\n",
    "Para auxiliar nosso estudo sobre regressões, utilizaremos uma base de dados sobre veículos, em que desejamos prever suas respectivas emissões de dióxido de carbono com base nas características do veículo, que serão detalhadas mais à frente."
   ]
  },
  {
   "cell_type": "code",
   "execution_count": 2,
   "id": "1978dfa2",
   "metadata": {},
   "outputs": [
    {
     "data": {
      "text/html": [
       "<div>\n",
       "<style scoped>\n",
       "    .dataframe tbody tr th:only-of-type {\n",
       "        vertical-align: middle;\n",
       "    }\n",
       "\n",
       "    .dataframe tbody tr th {\n",
       "        vertical-align: top;\n",
       "    }\n",
       "\n",
       "    .dataframe thead th {\n",
       "        text-align: right;\n",
       "    }\n",
       "</style>\n",
       "<table border=\"1\" class=\"dataframe\">\n",
       "  <thead>\n",
       "    <tr style=\"text-align: right;\">\n",
       "      <th></th>\n",
       "      <th>MODELYEAR</th>\n",
       "      <th>MAKE</th>\n",
       "      <th>MODEL</th>\n",
       "      <th>VEHICLECLASS</th>\n",
       "      <th>ENGINESIZE</th>\n",
       "      <th>CYLINDERS</th>\n",
       "      <th>TRANSMISSION</th>\n",
       "      <th>FUELTYPE</th>\n",
       "      <th>FUELCONSUMPTION_CITY</th>\n",
       "      <th>FUELCONSUMPTION_HWY</th>\n",
       "      <th>FUELCONSUMPTION_COMB</th>\n",
       "      <th>FUELCONSUMPTION_COMB_MPG</th>\n",
       "      <th>CO2EMISSIONS</th>\n",
       "    </tr>\n",
       "  </thead>\n",
       "  <tbody>\n",
       "    <tr>\n",
       "      <th>0</th>\n",
       "      <td>2014</td>\n",
       "      <td>ACURA</td>\n",
       "      <td>ILX</td>\n",
       "      <td>COMPACT</td>\n",
       "      <td>2.0</td>\n",
       "      <td>4</td>\n",
       "      <td>AS5</td>\n",
       "      <td>Z</td>\n",
       "      <td>9.9</td>\n",
       "      <td>6.7</td>\n",
       "      <td>8.5</td>\n",
       "      <td>33</td>\n",
       "      <td>196</td>\n",
       "    </tr>\n",
       "    <tr>\n",
       "      <th>1</th>\n",
       "      <td>2014</td>\n",
       "      <td>ACURA</td>\n",
       "      <td>ILX</td>\n",
       "      <td>COMPACT</td>\n",
       "      <td>2.4</td>\n",
       "      <td>4</td>\n",
       "      <td>M6</td>\n",
       "      <td>Z</td>\n",
       "      <td>11.2</td>\n",
       "      <td>7.7</td>\n",
       "      <td>9.6</td>\n",
       "      <td>29</td>\n",
       "      <td>221</td>\n",
       "    </tr>\n",
       "    <tr>\n",
       "      <th>2</th>\n",
       "      <td>2014</td>\n",
       "      <td>ACURA</td>\n",
       "      <td>ILX HYBRID</td>\n",
       "      <td>COMPACT</td>\n",
       "      <td>1.5</td>\n",
       "      <td>4</td>\n",
       "      <td>AV7</td>\n",
       "      <td>Z</td>\n",
       "      <td>6.0</td>\n",
       "      <td>5.8</td>\n",
       "      <td>5.9</td>\n",
       "      <td>48</td>\n",
       "      <td>136</td>\n",
       "    </tr>\n",
       "    <tr>\n",
       "      <th>3</th>\n",
       "      <td>2014</td>\n",
       "      <td>ACURA</td>\n",
       "      <td>MDX 4WD</td>\n",
       "      <td>SUV - SMALL</td>\n",
       "      <td>3.5</td>\n",
       "      <td>6</td>\n",
       "      <td>AS6</td>\n",
       "      <td>Z</td>\n",
       "      <td>12.7</td>\n",
       "      <td>9.1</td>\n",
       "      <td>11.1</td>\n",
       "      <td>25</td>\n",
       "      <td>255</td>\n",
       "    </tr>\n",
       "    <tr>\n",
       "      <th>4</th>\n",
       "      <td>2014</td>\n",
       "      <td>ACURA</td>\n",
       "      <td>RDX AWD</td>\n",
       "      <td>SUV - SMALL</td>\n",
       "      <td>3.5</td>\n",
       "      <td>6</td>\n",
       "      <td>AS6</td>\n",
       "      <td>Z</td>\n",
       "      <td>12.1</td>\n",
       "      <td>8.7</td>\n",
       "      <td>10.6</td>\n",
       "      <td>27</td>\n",
       "      <td>244</td>\n",
       "    </tr>\n",
       "  </tbody>\n",
       "</table>\n",
       "</div>"
      ],
      "text/plain": [
       "   MODELYEAR   MAKE       MODEL VEHICLECLASS  ENGINESIZE  CYLINDERS  \\\n",
       "0       2014  ACURA         ILX      COMPACT         2.0          4   \n",
       "1       2014  ACURA         ILX      COMPACT         2.4          4   \n",
       "2       2014  ACURA  ILX HYBRID      COMPACT         1.5          4   \n",
       "3       2014  ACURA     MDX 4WD  SUV - SMALL         3.5          6   \n",
       "4       2014  ACURA     RDX AWD  SUV - SMALL         3.5          6   \n",
       "\n",
       "  TRANSMISSION FUELTYPE  FUELCONSUMPTION_CITY  FUELCONSUMPTION_HWY  \\\n",
       "0          AS5        Z                   9.9                  6.7   \n",
       "1           M6        Z                  11.2                  7.7   \n",
       "2          AV7        Z                   6.0                  5.8   \n",
       "3          AS6        Z                  12.7                  9.1   \n",
       "4          AS6        Z                  12.1                  8.7   \n",
       "\n",
       "   FUELCONSUMPTION_COMB  FUELCONSUMPTION_COMB_MPG  CO2EMISSIONS  \n",
       "0                   8.5                        33           196  \n",
       "1                   9.6                        29           221  \n",
       "2                   5.9                        48           136  \n",
       "3                  11.1                        25           255  \n",
       "4                  10.6                        27           244  "
      ]
     },
     "execution_count": 2,
     "metadata": {},
     "output_type": "execute_result"
    }
   ],
   "source": [
    "Fuel = pd.read_csv(\"FuelConsumption.csv\")\n",
    "Fuel.head()"
   ]
  },
  {
   "cell_type": "markdown",
   "id": "1c958afc",
   "metadata": {},
   "source": [
    "## Entendendo a base de dados\n",
    "\n",
    "A base contém especificações de modelos de caminhões e seus valores de consumo de combustível, com estimativas de emissões de dióxido de carbono.\n",
    "\n",
    "*   **MODELYEAR** (Ano de fabricação do modelo, exemplo: 2014)\n",
    "*   **MAKE** (Fabricante, exemplo: Acura)\n",
    "*   **MODEL** (Modelo, exemplo: ILX)\n",
    "*   **VEHICLE CLASS** (Classe do veículo, exemplo: SUV)\n",
    "*   **ENGINE SIZE** (Cilindrada, exemplo: 4.7)\n",
    "*   **CYLINDERS** (Número de cilindros, exemplo: 6)\n",
    "*   **TRANSMISSION** (Transmissão, exemplo: A6)\n",
    "*   **FUEL CONSUMPTION in CITY(L/100 km)** (Consumo de combustível na cidade, exemplo: 9.9)\n",
    "*   **FUEL CONSUMPTION in HWY (L/100 km)** (Consumo de combustível na estrada, exemplo: 8.9)\n",
    "*   **FUEL CONSUMPTION COMB (L/100 km)** (Consumo de combustível combinado, exemplo:. 9.2)\n",
    "*   **CO2 EMISSIONS (g/km)** (Emissões estimadas de CO2, exemplo: 182)\n",
    "\n"
   ]
  },
  {
   "cell_type": "markdown",
   "id": "53009037",
   "metadata": {},
   "source": [
    "## Verificação de relações entre os dados\n",
    "Essa etapa é importantíssima e irá nortear todo o processo de regressão. É com base nas relações feitas nessa parte que escolheremos os parâmetros dos modelos e saberemos o que esperar de resultado.\n",
    "\n",
    "Para aplicar quaisquer algoritmos de machine learning, a realização de um bom estudo prévio da base de dados é essencial para que o restante do processo gere bons resultados."
   ]
  },
  {
   "cell_type": "code",
   "execution_count": 3,
   "id": "360b81ed",
   "metadata": {},
   "outputs": [
    {
     "data": {
      "text/html": [
       "<div>\n",
       "<style scoped>\n",
       "    .dataframe tbody tr th:only-of-type {\n",
       "        vertical-align: middle;\n",
       "    }\n",
       "\n",
       "    .dataframe tbody tr th {\n",
       "        vertical-align: top;\n",
       "    }\n",
       "\n",
       "    .dataframe thead th {\n",
       "        text-align: right;\n",
       "    }\n",
       "</style>\n",
       "<table border=\"1\" class=\"dataframe\">\n",
       "  <thead>\n",
       "    <tr style=\"text-align: right;\">\n",
       "      <th></th>\n",
       "      <th>MODELYEAR</th>\n",
       "      <th>ENGINESIZE</th>\n",
       "      <th>CYLINDERS</th>\n",
       "      <th>FUELCONSUMPTION_CITY</th>\n",
       "      <th>FUELCONSUMPTION_HWY</th>\n",
       "      <th>FUELCONSUMPTION_COMB</th>\n",
       "      <th>FUELCONSUMPTION_COMB_MPG</th>\n",
       "      <th>CO2EMISSIONS</th>\n",
       "    </tr>\n",
       "  </thead>\n",
       "  <tbody>\n",
       "    <tr>\n",
       "      <th>count</th>\n",
       "      <td>1067.0</td>\n",
       "      <td>1067.000000</td>\n",
       "      <td>1067.000000</td>\n",
       "      <td>1067.000000</td>\n",
       "      <td>1067.000000</td>\n",
       "      <td>1067.000000</td>\n",
       "      <td>1067.000000</td>\n",
       "      <td>1067.000000</td>\n",
       "    </tr>\n",
       "    <tr>\n",
       "      <th>mean</th>\n",
       "      <td>2014.0</td>\n",
       "      <td>3.346298</td>\n",
       "      <td>5.794752</td>\n",
       "      <td>13.296532</td>\n",
       "      <td>9.474602</td>\n",
       "      <td>11.580881</td>\n",
       "      <td>26.441425</td>\n",
       "      <td>256.228679</td>\n",
       "    </tr>\n",
       "    <tr>\n",
       "      <th>std</th>\n",
       "      <td>0.0</td>\n",
       "      <td>1.415895</td>\n",
       "      <td>1.797447</td>\n",
       "      <td>4.101253</td>\n",
       "      <td>2.794510</td>\n",
       "      <td>3.485595</td>\n",
       "      <td>7.468702</td>\n",
       "      <td>63.372304</td>\n",
       "    </tr>\n",
       "    <tr>\n",
       "      <th>min</th>\n",
       "      <td>2014.0</td>\n",
       "      <td>1.000000</td>\n",
       "      <td>3.000000</td>\n",
       "      <td>4.600000</td>\n",
       "      <td>4.900000</td>\n",
       "      <td>4.700000</td>\n",
       "      <td>11.000000</td>\n",
       "      <td>108.000000</td>\n",
       "    </tr>\n",
       "    <tr>\n",
       "      <th>25%</th>\n",
       "      <td>2014.0</td>\n",
       "      <td>2.000000</td>\n",
       "      <td>4.000000</td>\n",
       "      <td>10.250000</td>\n",
       "      <td>7.500000</td>\n",
       "      <td>9.000000</td>\n",
       "      <td>21.000000</td>\n",
       "      <td>207.000000</td>\n",
       "    </tr>\n",
       "    <tr>\n",
       "      <th>50%</th>\n",
       "      <td>2014.0</td>\n",
       "      <td>3.400000</td>\n",
       "      <td>6.000000</td>\n",
       "      <td>12.600000</td>\n",
       "      <td>8.800000</td>\n",
       "      <td>10.900000</td>\n",
       "      <td>26.000000</td>\n",
       "      <td>251.000000</td>\n",
       "    </tr>\n",
       "    <tr>\n",
       "      <th>75%</th>\n",
       "      <td>2014.0</td>\n",
       "      <td>4.300000</td>\n",
       "      <td>8.000000</td>\n",
       "      <td>15.550000</td>\n",
       "      <td>10.850000</td>\n",
       "      <td>13.350000</td>\n",
       "      <td>31.000000</td>\n",
       "      <td>294.000000</td>\n",
       "    </tr>\n",
       "    <tr>\n",
       "      <th>max</th>\n",
       "      <td>2014.0</td>\n",
       "      <td>8.400000</td>\n",
       "      <td>12.000000</td>\n",
       "      <td>30.200000</td>\n",
       "      <td>20.500000</td>\n",
       "      <td>25.800000</td>\n",
       "      <td>60.000000</td>\n",
       "      <td>488.000000</td>\n",
       "    </tr>\n",
       "  </tbody>\n",
       "</table>\n",
       "</div>"
      ],
      "text/plain": [
       "       MODELYEAR   ENGINESIZE    CYLINDERS  FUELCONSUMPTION_CITY  \\\n",
       "count     1067.0  1067.000000  1067.000000           1067.000000   \n",
       "mean      2014.0     3.346298     5.794752             13.296532   \n",
       "std          0.0     1.415895     1.797447              4.101253   \n",
       "min       2014.0     1.000000     3.000000              4.600000   \n",
       "25%       2014.0     2.000000     4.000000             10.250000   \n",
       "50%       2014.0     3.400000     6.000000             12.600000   \n",
       "75%       2014.0     4.300000     8.000000             15.550000   \n",
       "max       2014.0     8.400000    12.000000             30.200000   \n",
       "\n",
       "       FUELCONSUMPTION_HWY  FUELCONSUMPTION_COMB  FUELCONSUMPTION_COMB_MPG  \\\n",
       "count          1067.000000           1067.000000               1067.000000   \n",
       "mean              9.474602             11.580881                 26.441425   \n",
       "std               2.794510              3.485595                  7.468702   \n",
       "min               4.900000              4.700000                 11.000000   \n",
       "25%               7.500000              9.000000                 21.000000   \n",
       "50%               8.800000             10.900000                 26.000000   \n",
       "75%              10.850000             13.350000                 31.000000   \n",
       "max              20.500000             25.800000                 60.000000   \n",
       "\n",
       "       CO2EMISSIONS  \n",
       "count   1067.000000  \n",
       "mean     256.228679  \n",
       "std       63.372304  \n",
       "min      108.000000  \n",
       "25%      207.000000  \n",
       "50%      251.000000  \n",
       "75%      294.000000  \n",
       "max      488.000000  "
      ]
     },
     "execution_count": 3,
     "metadata": {},
     "output_type": "execute_result"
    }
   ],
   "source": [
    "Fuel.describe()"
   ]
  },
  {
   "cell_type": "code",
   "execution_count": 4,
   "id": "3035a6dd",
   "metadata": {},
   "outputs": [
    {
     "data": {
      "image/png": "[encoded data removed]",
      "text/plain": [
       "<Figure size 432x288 with 1 Axes>"
      ]
     },
     "metadata": {
      "needs_background": "light"
     },
     "output_type": "display_data"
    }
   ],
   "source": [
    "# Observando a relação entre consumo de combustível e emissões de CO2\n",
    "plt.scatter(Fuel.FUELCONSUMPTION_COMB, Fuel.CO2EMISSIONS,  color='blue')\n",
    "plt.xlabel(\"Consumo combinado de combustível\")\n",
    "plt.ylabel(\"Emissiões\")\n",
    "plt.show()"
   ]
  },
  {
   "cell_type": "code",
   "execution_count": 5,
   "id": "4cd28727",
   "metadata": {},
   "outputs": [
    {
     "data": {
      "image/png": "[encoded data removed]",
      "text/plain": [
       "<Figure size 432x288 with 1 Axes>"
      ]
     },
     "metadata": {
      "needs_background": "light"
     },
     "output_type": "display_data"
    }
   ],
   "source": [
    "# Observando a relação entre a quantidade de cilindros e as emissões de CO2\n",
    "plt.scatter(Fuel.CYLINDERS, Fuel.CO2EMISSIONS, color = 'blue')\n",
    "plt.xlabel(\"N° de Cilindros\")\n",
    "plt.ylabel(\"Emissiões\")\n",
    "plt.show()"
   ]
  },
  {
   "cell_type": "code",
   "execution_count": 6,
   "id": "03b23c70",
   "metadata": {},
   "outputs": [
    {
     "data": {
      "image/png": "[encoded data removed]",
      "text/plain": [
       "<Figure size 432x288 with 1 Axes>"
      ]
     },
     "metadata": {
      "needs_background": "light"
     },
     "output_type": "display_data"
    }
   ],
   "source": [
    "# Observando a relação entre cilindrada e emissões de CO2\n",
    "plt.scatter(Fuel.ENGINESIZE, Fuel.CO2EMISSIONS,  color='blue')\n",
    "plt.xlabel(\"Cilindrada\")\n",
    "plt.ylabel(\"Emissiões\")\n",
    "plt.show()"
   ]
  },
  {
   "cell_type": "markdown",
   "id": "db2240d9",
   "metadata": {},
   "source": [
    "## 1. Regressão Linear Simples\n",
    "\n",
    "A regressão linear simples serve para estabelecer uma relação linear entre as variáveis analisadas. Graficamente, essa relação pode ser vista como uma função afim, que tem equação característica da forma:\n",
    "$$y = a + b\\  x $$\n",
    "Onde \"a\" é o coeficiente linear da reta e \"b\" é o coeficiente angular.\n",
    "O que o modelo de regressão linear, dada pela biblioteca sklearn faz, é encontrar os coeficientes angular e linear automaticamente, considerando os dados que alimentam o modelo.\n",
    "\n",
    "Uma vez que podem ser verificadas tendências lineares entre alguns dados analisados, então possivelmente obteremos uma boa aproximação para uma reta"
   ]
  },
  {
   "cell_type": "markdown",
   "id": "33ef8f40",
   "metadata": {},
   "source": [
    "### 1.1. Separando dados de treino e teste\n",
    "\n",
    "Primeiramente, realizaremos uma divisão dos dados entre dados de treino e de teste. Isso é necessário para que não ocorra um fenômeno estatístico chamado overfitting, que é quando um modelo estatístico se ajusta muito bem ao conjunto de dados anteriormente observado, mas se mostra ineficaz para prever novos resultados. \n",
    "\n",
    "Nesse caso, separaremos 80% dos dados para servirem de treino ao modelo, e o restante, para servirem de teste."
   ]
  },
  {
   "cell_type": "code",
   "execution_count": 7,
   "id": "0be8560d",
   "metadata": {},
   "outputs": [],
   "source": [
    "# Separando dados aleatoriamente entre vetores de treino e teste\n",
    "msk = np.random.rand(len(Fuel)) < 0.8\n",
    "treino = Fuel[msk]\n",
    "teste = Fuel[~msk]\n",
    "X_treino = np.asanyarray(treino[['ENGINESIZE']])\n",
    "y_treino = np.asanyarray(treino[['CO2EMISSIONS']])\n",
    "X_teste = np.asanyarray(teste[['ENGINESIZE']])\n",
    "y_teste = np.asanyarray(teste[['CO2EMISSIONS']])"
   ]
  },
  {
   "cell_type": "markdown",
   "id": "ae8026f7",
   "metadata": {},
   "source": [
    "### 1.2. Criando modelo de regressão"
   ]
  },
  {
   "cell_type": "markdown",
   "id": "8cfd6b46",
   "metadata": {},
   "source": [
    "Em seguida, a biblioteca sklearn será utilizada para gerar o modelo de regressão automaticamente. \n",
    "\n",
    "É altamente recomendado que você seja capaz de entender a documentação da biblioteca sklearn para o caso de precisar criar modelos mais personalizados, ou mesmo utilizar modelos que não cobrimos aqui. Para incentivar isso, deixo o link sobre a função de modelo linear: \n",
    "\n",
    "https://scikit-learn.org/stable/modules/generated/sklearn.linear_model.LinearRegression.html"
   ]
  },
  {
   "cell_type": "code",
   "execution_count": 8,
   "id": "93777e62",
   "metadata": {},
   "outputs": [
    {
     "name": "stdout",
     "output_type": "stream",
     "text": [
      "Coeficiente angular:  [[39.46211368]]\n",
      "Coeficiente linear:  [124.30217412]\n"
     ]
    }
   ],
   "source": [
    "from sklearn import linear_model\n",
    "\n",
    "# Utilizando a biblioteca para criar a melhor reta de regressão linear\n",
    "regr = linear_model.LinearRegression()\n",
    "regr.fit(X_treino, y_treino)\n",
    "\n",
    "# Imprimindo os valores obtidos para os coeficientes angular e linear\n",
    "print('Coeficiente angular: ', regr.coef_)\n",
    "print('Coeficiente linear: ',regr.intercept_)"
   ]
  },
  {
   "cell_type": "markdown",
   "id": "d44be68b",
   "metadata": {},
   "source": [
    "### 1.3. Exibindo resultados"
   ]
  },
  {
   "cell_type": "code",
   "execution_count": 9,
   "id": "290314cf",
   "metadata": {},
   "outputs": [
    {
     "data": {
      "image/png": "[encoded data removed]",
      "text/plain": [
       "<Figure size 432x288 with 1 Axes>"
      ]
     },
     "metadata": {
      "needs_background": "light"
     },
     "output_type": "display_data"
    }
   ],
   "source": [
    "plt.scatter(X_treino, y_treino,  color='blue')\n",
    "plt.plot(X_treino, regr.coef_[0][0]*X_treino + regr.intercept_[0], '-r')\n",
    "plt.xlabel(\"Engine size\")\n",
    "plt.ylabel(\"Emission\")\n",
    "plt.show()"
   ]
  },
  {
   "cell_type": "markdown",
   "id": "21f0fe6c",
   "metadata": {},
   "source": [
    "### 1.4. Avaliando resultados"
   ]
  },
  {
   "cell_type": "code",
   "execution_count": 10,
   "id": "00f72783",
   "metadata": {},
   "outputs": [
    {
     "name": "stdout",
     "output_type": "stream",
     "text": [
      "Erro médio absoluto: 26.09\n",
      "Erro residual da soma dos quadrados (MSE): 1128.80\n",
      "R2-score: 0.73\n"
     ]
    }
   ],
   "source": [
    "from sklearn.metrics import r2_score\n",
    "\n",
    "y_predito = regr.predict(X_teste)\n",
    "\n",
    "print(\"Erro médio absoluto: %.2f\" % np.mean(np.absolute(y_predito - y_teste)))\n",
    "print(\"Erro residual da soma dos quadrados (MSE): %.2f\" % np.mean((y_predito - y_teste) ** 2))\n",
    "print(\"R2-score: %.2f\" % r2_score(y_teste, y_predito))"
   ]
  },
  {
   "cell_type": "markdown",
   "id": "d1377eb6",
   "metadata": {},
   "source": [
    "## 2. Regressão Polinomial"
   ]
  },
  {
   "cell_type": "markdown",
   "id": "0c4ce647",
   "metadata": {},
   "source": [
    "Em alguns casos, a relação entre as variáveis não é linear, mas ainda é possível observar uma relação contínua entre os dados. Nesse caso, podemos utilizar métodos de Regressão Polinomial.\n",
    "\n",
    "Resgatando o conceito de polinômios, a relação entre a variável dependente y e a variável independente x pode ser dita polinomial quando expressa na forma: \n",
    "$$y = a + \\theta_1  x + \\theta_2 x^2 + ... + \\theta_n x^n$$\n",
    "\n",
    "Em que podemos variar o grau do polinômio n de acordo com o mais adequado para os dados em questão.\n"
   ]
  },
  {
   "cell_type": "markdown",
   "id": "91aaa305",
   "metadata": {},
   "source": [
    "### 2.1. Tratamento prévio para transformação polinomial\n",
    "\n",
    "A função **PolynomialFeatures()**, juntamente com a **fit_transform**, da biblioteca Scikit-learn gera uma matriz com n+1 colunas, em que cada coluna representa um grau do polinômio. Seus valores são todas as combinações polinomiais da variável x. Ou seja, a primeira coluna terá os valores de x^0, a segunda x^1, a terceira x^2 e assim por diante, até x^n. A partir dessa matriz, é possível utilizar o modelo de regressão linear para encontrar os coeficientes ideais para cada grau.\n",
    "\n",
    "No caso a seguir, utilizaremos um polinômio de grau 2. Portanto, a função nos retornará uma matriz do tipo:\n",
    "\n",
    "\\begin{bmatrix}\n",
    "\\ 1 & x_1 & x_1^2\\\\\n",
    "\\ 1 & x_2 & x_2^2\\\\\n",
    "\\vdots & \\vdots & \\vdots\\\\\n",
    "\\ 1 & x_n & x_n^2\n",
    "\\end{bmatrix}\n",
    "\n",
    "Exemplo: considere que nossos valores de x são [2.4, 1.5, 3.5], as funções os transformarão da seguinte forma: \n",
    "$$\n",
    "\\begin{bmatrix}\n",
    "2.4\\\\\n",
    "1.5\\\\\n",
    "3.5\\\\\n",
    "\\end{bmatrix} \\longrightarrow \\begin{bmatrix}\n",
    "\\ 1 & 2.4 & 5.76\\\\\n",
    "\\ 1 & 1.5 & 2.25\\\\\n",
    "\\ 1 & 3.5 & 12.25\\\\\n",
    "\\end{bmatrix}\n",
    "$$"
   ]
  },
  {
   "cell_type": "code",
   "execution_count": 11,
   "id": "51a28d19",
   "metadata": {},
   "outputs": [
    {
     "data": {
      "text/plain": [
       "array([[ 1.  ,  2.  ,  4.  ],\n",
       "       [ 1.  ,  2.4 ,  5.76],\n",
       "       [ 1.  ,  3.5 , 12.25],\n",
       "       ...,\n",
       "       [ 1.  ,  3.  ,  9.  ],\n",
       "       [ 1.  ,  3.2 , 10.24],\n",
       "       [ 1.  ,  3.  ,  9.  ]])"
      ]
     },
     "execution_count": 11,
     "metadata": {},
     "output_type": "execute_result"
    }
   ],
   "source": [
    "from sklearn.preprocessing import PolynomialFeatures\n",
    "\n",
    "treino_x = np.asanyarray(treino[['ENGINESIZE']])\n",
    "treino_y = np.asanyarray(treino[['CO2EMISSIONS']])\n",
    "\n",
    "teste_x = np.asanyarray(teste[['ENGINESIZE']])\n",
    "teste_y = np.asanyarray(teste[['CO2EMISSIONS']])\n",
    "\n",
    "poly = PolynomialFeatures(degree=2)\n",
    "treino_x_poly = poly.fit_transform(treino_x)\n",
    "treino_x_poly"
   ]
  },
  {
   "cell_type": "markdown",
   "id": "7b39673f",
   "metadata": {},
   "source": [
    "### 2.2. Criando modelo de regressão\n",
    "\n",
    "Dados os valores de x com diferentes potências, o modelo de regressão linear realizará o trabalho de encontrar os melhores coeficientes para multiplicar cada grau de x, gerando um vetor que, quando multiplicado com a matriz dos valores de x, gerará os valores aproximados de y.\n",
    "\n",
    "\n",
    "\n",
    "$$\n",
    "\\begin{bmatrix}\n",
    "\\ 1 & x_1 & x_1^2\\\\\n",
    "\\ 1 & x_2 & x_2^2\\\\\n",
    "\\ 1 & x_3 & x_3^2\\\\\n",
    "\\vdots & \\vdots & \\vdots\\\\\n",
    "\\ 1 & x_n & x_n^2\n",
    "\\end{bmatrix} *\\begin{bmatrix}\n",
    "a\\\\\n",
    "\\theta_1\\\\\n",
    "\\theta_2\\\\\n",
    "\\end{bmatrix} \\longrightarrow \\begin{bmatrix}\n",
    "y_1\\\\\n",
    "y_2\\\\\n",
    "y_3\\\\\n",
    "\\vdots\\\\\n",
    "y_n\\\\\n",
    "\\end{bmatrix}\n",
    "$$\n",
    "\n"
   ]
  },
  {
   "cell_type": "code",
   "execution_count": 12,
   "id": "ec42b9e9",
   "metadata": {},
   "outputs": [
    {
     "name": "stdout",
     "output_type": "stream",
     "text": [
      "Coeficientes:  [[ 0.         51.11921155 -1.55334877]]\n",
      "Intercept:  [105.7523837]\n"
     ]
    }
   ],
   "source": [
    "from sklearn import linear_model\n",
    "\n",
    "clf = linear_model.LinearRegression()\n",
    "treino_y_ = clf.fit(treino_x_poly, treino_y)\n",
    "print ('Coeficientes: ', clf.coef_)\n",
    "print ('Intercept: ',clf.intercept_)"
   ]
  },
  {
   "cell_type": "markdown",
   "id": "4ce2435d",
   "metadata": {},
   "source": [
    "### 2.3. Exibindo resultados"
   ]
  },
  {
   "cell_type": "code",
   "execution_count": 13,
   "id": "8ddf861f",
   "metadata": {},
   "outputs": [
    {
     "data": {
      "text/plain": [
       "Text(0, 0.5, 'Emission')"
      ]
     },
     "execution_count": 13,
     "metadata": {},
     "output_type": "execute_result"
    },
    {
     "data": {
      "image/png": "[encoded data removed]",
      "text/plain": [
       "<Figure size 432x288 with 1 Axes>"
      ]
     },
     "metadata": {
      "needs_background": "light"
     },
     "output_type": "display_data"
    }
   ],
   "source": [
    "plt.scatter(treino.ENGINESIZE, treino.CO2EMISSIONS,  color='blue')\n",
    "XX = np.arange(0.0, 10.0, 0.1)\n",
    "yy = clf.intercept_[0]+ clf.coef_[0][1]*XX+ clf.coef_[0][2]*np.power(XX, 2)\n",
    "plt.plot(XX, yy, '-r' )\n",
    "plt.xlabel(\"Engine size\")\n",
    "plt.ylabel(\"Emission\")"
   ]
  },
  {
   "cell_type": "markdown",
   "id": "7e201376",
   "metadata": {},
   "source": [
    "### 2.4. Avaliando resultados"
   ]
  },
  {
   "cell_type": "code",
   "execution_count": 14,
   "id": "3b9ee2bc",
   "metadata": {},
   "outputs": [
    {
     "name": "stdout",
     "output_type": "stream",
     "text": [
      "Erro médio absoluto: 25.93\n",
      "Erro residual da soma dos quadrados (MSE): 1124.64\n",
      "R2-score: 0.73\n"
     ]
    }
   ],
   "source": [
    "from sklearn.metrics import r2_score\n",
    "\n",
    "teste_x_poly = poly.transform(teste_x)\n",
    "teste_y_ = clf.predict(teste_x_poly)\n",
    "\n",
    "print(\"Erro médio absoluto: %.2f\" % np.mean(np.absolute(teste_y_ - teste_y)))\n",
    "print(\"Erro residual da soma dos quadrados (MSE): %.2f\" % np.mean((teste_y_ - teste_y) ** 2))\n",
    "print(\"R2-score: %.2f\" % r2_score(teste_y,teste_y_ ) )"
   ]
  },
  {
   "cell_type": "markdown",
   "id": "18172146",
   "metadata": {},
   "source": [
    "## 3. Regressão Múltipla"
   ]
  },
  {
   "cell_type": "markdown",
   "id": "b5439923",
   "metadata": {},
   "source": [
    "Na prática, existem vários fatores que impactam as emissões de dióxido de carbono. Quando há mais de uma variável independente, o processo de regressão é chamado de regressão múltipla. \n",
    "\n",
    "Como exemplo, utilizaremos os dados 'ENGINESIZE','CYLINDERS' e 'FUELCONSUMPTION_COMB' para traçar uma relação com a emissão de dióxido de carbonos.\n",
    "\n",
    "Por simplicidade, encontraremos coeficientes lineares para o modelo. O modelo de regressão linear é responsável por achar os melhores coeficientes para cada um dos dados, criando uma equação da forma: \n",
    "$$y = a + \\theta_1  x + \\theta_2 w + \\theta_3 z$$\n",
    "\n",
    "Por analogia, uma regressão com uma variável independente pode ser visualizada em um gráfico 2D, uma regressão com duas variáveis independentes pode ser visualizada em um gráfico 3D, uma regressão com 3 variáveis em um espaço 4D, e assim por diante..."
   ]
  },
  {
   "cell_type": "markdown",
   "id": "99da1743",
   "metadata": {},
   "source": [
    "### 3.1. Criando modelo"
   ]
  },
  {
   "cell_type": "code",
   "execution_count": 15,
   "id": "9e5a309e",
   "metadata": {},
   "outputs": [
    {
     "name": "stdout",
     "output_type": "stream",
     "text": [
      "Coeficientes:  [[11.61694068  7.37811277  9.42251095]]\n"
     ]
    }
   ],
   "source": [
    "from sklearn import linear_model\n",
    "\n",
    "regr = linear_model.LinearRegression()\n",
    "x = np.asanyarray(treino[['ENGINESIZE','CYLINDERS','FUELCONSUMPTION_COMB']])\n",
    "y = np.asanyarray(treino[['CO2EMISSIONS']])\n",
    "regr.fit (x, y)\n",
    "\n",
    "print('Coeficientes: ', regr.coef_)"
   ]
  },
  {
   "cell_type": "markdown",
   "id": "d9b261e1",
   "metadata": {},
   "source": [
    "### 3.2. Avaliando resultados\n"
   ]
  },
  {
   "cell_type": "markdown",
   "id": "a460c004",
   "metadata": {},
   "source": [
    "Por tratar-se de uma estrutura espacial multidimensional, sua visualização não será feita aqui, mas ainda é possível avaliar o modelo sem enxergar graficamente seu resultado.\n",
    "\n"
   ]
  },
  {
   "cell_type": "markdown",
   "id": "b5904b27",
   "metadata": {},
   "source": [
    "**Variance regression score:**\n",
    "\n",
    "Seja $\\hat{y}$ o valor estimado, dado pela saída do algoritmo, y o resultado correto correspondente e Var a variância (o quadrado do desvio padrão). Então, o Variance Regression Score é estimado da seguinte forma:\n",
    "\n",
    "$\\texttt{VarianceRegressionScore}(y, \\hat{y}) = 1 - \\frac{Var{ y - \\hat{y}}}{Var{y}}$\\\n",
    "Onde o melhor valor possível para o score é 1, valores menores são piores.\n",
    "\n"
   ]
  },
  {
   "cell_type": "code",
   "execution_count": 16,
   "id": "4e072e44",
   "metadata": {},
   "outputs": [
    {
     "name": "stdout",
     "output_type": "stream",
     "text": [
      "Residual sum of squares: 672.26\n",
      "Variance score: 0.84\n"
     ]
    }
   ],
   "source": [
    "y_hat = regr.predict(teste[['ENGINESIZE','CYLINDERS','FUELCONSUMPTION_COMB']].values)\n",
    "x = np.asanyarray(teste[['ENGINESIZE','CYLINDERS','FUELCONSUMPTION_COMB']].values)\n",
    "y = np.asanyarray(teste[['CO2EMISSIONS']].values)\n",
    "\n",
    "print(\"Residual sum of squares: %.2f\" % np.mean((y_hat - y) ** 2))\n",
    "print('Variance score: %.2f' % regr.score(x, y))"
   ]
  },
  {
   "cell_type": "markdown",
   "id": "03438804",
   "metadata": {},
   "source": [
    "## 4. Regressão não linear"
   ]
  },
  {
   "cell_type": "markdown",
   "id": "7a0b0e04",
   "metadata": {},
   "source": [
    "A regressão não linear é um método de modelar relações não lineares entre a variável independente $x$ e a variável dependente $y$. Essencialmente, qualquer relação conhecida entre as variáveis pode ser modelada matematicamente para se encaixar em uma expressão. Por exemplo: \n",
    "\n",
    "$$ \\ y = a x^3 + b x^2 + c x + d \\ $$\n",
    "\n",
    "A regressão não linear é ideal nos casos em que os dados apresentarem um comportamento conhecido, mas que não se encaixa nos vistos anteriormente.\n",
    "\n",
    "Funções não lineares podem ter elementos como exponenciais, logaritmos, frações e assim por diante, por exemplo:\n",
    "\n",
    "$$ y = \\log(x)$$\n",
    "\n",
    "Ou uma composição variada de várias expressões ainda mais complicadas, como: \n",
    "\n",
    "$$ y = \\log(a x^3 + b x^2 + c x + d)$$\n",
    "\n",
    "Exemplo de aplicação: deseja-se estudar o padrão de crescimento do PIB de uma população. Sabe-se, da geografia, que o crescimento tem aspecto sigmoidal, tendendo para um certo limite.\n",
    "Com isso em mente, o modelo criado pode procurar se encaixar em uma sigmóide e, consequentemente, ser mais preciso para prever o padrão de crescimento.\n",
    "\n",
    "Utilizaremos uma base de dados que informa o PIB da China anualmente.Nesse caso, o algoritmo receberá a expressão matemática da sigmóide e terá a função de retornar os coeficientes que melhor ajustam nossos dados a uma sigmóide."
   ]
  },
  {
   "cell_type": "code",
   "execution_count": 17,
   "id": "06c8ee21",
   "metadata": {},
   "outputs": [
    {
     "data": {
      "text/html": [
       "<div>\n",
       "<style scoped>\n",
       "    .dataframe tbody tr th:only-of-type {\n",
       "        vertical-align: middle;\n",
       "    }\n",
       "\n",
       "    .dataframe tbody tr th {\n",
       "        vertical-align: top;\n",
       "    }\n",
       "\n",
       "    .dataframe thead th {\n",
       "        text-align: right;\n",
       "    }\n",
       "</style>\n",
       "<table border=\"1\" class=\"dataframe\">\n",
       "  <thead>\n",
       "    <tr style=\"text-align: right;\">\n",
       "      <th></th>\n",
       "      <th>Year</th>\n",
       "      <th>Value</th>\n",
       "    </tr>\n",
       "  </thead>\n",
       "  <tbody>\n",
       "    <tr>\n",
       "      <th>0</th>\n",
       "      <td>1960</td>\n",
       "      <td>5.918412e+10</td>\n",
       "    </tr>\n",
       "    <tr>\n",
       "      <th>1</th>\n",
       "      <td>1961</td>\n",
       "      <td>4.955705e+10</td>\n",
       "    </tr>\n",
       "    <tr>\n",
       "      <th>2</th>\n",
       "      <td>1962</td>\n",
       "      <td>4.668518e+10</td>\n",
       "    </tr>\n",
       "    <tr>\n",
       "      <th>3</th>\n",
       "      <td>1963</td>\n",
       "      <td>5.009730e+10</td>\n",
       "    </tr>\n",
       "    <tr>\n",
       "      <th>4</th>\n",
       "      <td>1964</td>\n",
       "      <td>5.906225e+10</td>\n",
       "    </tr>\n",
       "    <tr>\n",
       "      <th>5</th>\n",
       "      <td>1965</td>\n",
       "      <td>6.970915e+10</td>\n",
       "    </tr>\n",
       "    <tr>\n",
       "      <th>6</th>\n",
       "      <td>1966</td>\n",
       "      <td>7.587943e+10</td>\n",
       "    </tr>\n",
       "    <tr>\n",
       "      <th>7</th>\n",
       "      <td>1967</td>\n",
       "      <td>7.205703e+10</td>\n",
       "    </tr>\n",
       "    <tr>\n",
       "      <th>8</th>\n",
       "      <td>1968</td>\n",
       "      <td>6.999350e+10</td>\n",
       "    </tr>\n",
       "    <tr>\n",
       "      <th>9</th>\n",
       "      <td>1969</td>\n",
       "      <td>7.871882e+10</td>\n",
       "    </tr>\n",
       "  </tbody>\n",
       "</table>\n",
       "</div>"
      ],
      "text/plain": [
       "   Year         Value\n",
       "0  1960  5.918412e+10\n",
       "1  1961  4.955705e+10\n",
       "2  1962  4.668518e+10\n",
       "3  1963  5.009730e+10\n",
       "4  1964  5.906225e+10\n",
       "5  1965  6.970915e+10\n",
       "6  1966  7.587943e+10\n",
       "7  1967  7.205703e+10\n",
       "8  1968  6.999350e+10\n",
       "9  1969  7.871882e+10"
      ]
     },
     "execution_count": 17,
     "metadata": {},
     "output_type": "execute_result"
    }
   ],
   "source": [
    "df = pd.read_csv(\"china_pib.csv\")\n",
    "df.head(10)"
   ]
  },
  {
   "cell_type": "markdown",
   "id": "02ee954d",
   "metadata": {},
   "source": [
    "### 4.1. Analisando a base de dados\n",
    "\n",
    "Para verificar se nossa suposição inicial estava correta, é necessário fazer uma inspeção visual prévia e verificar se nosso dado se adequa ao formato esperado anteriormente."
   ]
  },
  {
   "cell_type": "code",
   "execution_count": 18,
   "id": "dd2006b4",
   "metadata": {},
   "outputs": [
    {
     "data": {
      "image/png": "[encoded data removed]",
      "text/plain": [
       "<Figure size 576x360 with 1 Axes>"
      ]
     },
     "metadata": {
      "needs_background": "light"
     },
     "output_type": "display_data"
    }
   ],
   "source": [
    "plt.figure(figsize=(8,5))\n",
    "x_data, y_data = (df[\"Year\"].values, df[\"Value\"].values)\n",
    "plt.plot(x_data, y_data, 'ro')\n",
    "plt.ylabel('PIB')\n",
    "plt.xlabel('Year')\n",
    "plt.show()\n",
    "\n",
    "# Normalizando a base\n",
    "xdata =x_data/max(x_data)\n",
    "ydata =y_data/max(y_data)"
   ]
  },
  {
   "cell_type": "markdown",
   "id": "6e237ff8",
   "metadata": {},
   "source": [
    "### 4.2. Definindo a expressão matemática"
   ]
  },
  {
   "cell_type": "markdown",
   "id": "f24edd07",
   "metadata": {},
   "source": [
    "Na regressão não linear, podemos encontrar os coeficientes ideais para uma expressão, dados seus parâmetros. No caso da sigmóide  logística, a função é expressão como:\n",
    "\n",
    "$$ \\hat{Y} = \\frac1{1+e^{-\\beta_1(X-\\beta_2)}}$$\n",
    "\n",
    "$\\beta_1$: Controla a inclinação da curva.\n",
    "\n",
    "$\\beta_2$: Move a curva no eixo-x."
   ]
  },
  {
   "cell_type": "code",
   "execution_count": 19,
   "id": "58340502",
   "metadata": {},
   "outputs": [],
   "source": [
    "def sigmoid(x, Beta_1, Beta_2):\n",
    "    y = 1 / (1 + np.exp(-Beta_1*(x-Beta_2)))\n",
    "    return y"
   ]
  },
  {
   "cell_type": "markdown",
   "id": "229a0337",
   "metadata": {},
   "source": [
    "### 4.3. Encontrando os melhores parâmetros\n",
    "\n",
    "Para encontrar os melhores parâmetros à curva, utilizaremos a biblioteca scipy, feita para matemáticos, cientistas e engenheiros. A biblioteca scipy tem base na biblioteca numpy e possui uma ótima documentação. Recomendamos uma breve exploração da biblioteca: \n",
    "https://docs.scipy.org/doc/scipy/tutorial/optimize.html\n",
    "\n",
    "A função curve_fit realizará o trabalho de encontrar os valores de beta_1 e beta_2 que melhor adequam os dados a uma sigmóide. "
   ]
  },
  {
   "cell_type": "code",
   "execution_count": 20,
   "id": "adf57d5e",
   "metadata": {},
   "outputs": [
    {
     "name": "stdout",
     "output_type": "stream",
     "text": [
      " beta_1 = 690.451712, beta_2 = 0.997207\n"
     ]
    }
   ],
   "source": [
    "from scipy.optimize import curve_fit\n",
    "popt, pcov = curve_fit(sigmoid, xdata, ydata)\n",
    "print(\" beta_1 = %f, beta_2 = %f\" % (popt[0], popt[1]))"
   ]
  },
  {
   "cell_type": "markdown",
   "id": "6951be04",
   "metadata": {},
   "source": [
    "### 4.4. Exibindo resultados\n",
    "\n",
    "Percebe-se que o PIB da China está em uma fase de crescimento exponencial, mas, se adequando à tendência, possui grande probabilidade de enfrentar um período de maior estabilidade nos próximos anos, com menos crescimento relativo."
   ]
  },
  {
   "cell_type": "code",
   "execution_count": 21,
   "id": "499959a9",
   "metadata": {},
   "outputs": [
    {
     "data": {
      "image/png": "[encoded data removed]",
      "text/plain": [
       "<Figure size 576x360 with 1 Axes>"
      ]
     },
     "metadata": {
      "needs_background": "light"
     },
     "output_type": "display_data"
    }
   ],
   "source": [
    "x = np.linspace(1960, 2015, 55)\n",
    "x = x/max(x)\n",
    "plt.figure(figsize=(8,5))\n",
    "y = sigmoid(x, *popt)\n",
    "plt.plot(xdata, ydata, 'ro', label='data')\n",
    "plt.plot(x,y, linewidth=3.0, label='fit')\n",
    "plt.legend(loc='best')\n",
    "plt.ylabel('GDP')\n",
    "plt.xlabel('Year')\n",
    "plt.show()"
   ]
  },
  {
   "cell_type": "markdown",
   "id": "ca444754",
   "metadata": {},
   "source": [
    "## Considerações Finais\n",
    "\n",
    "Ao fim desse módulo sobre regressões, esperamos que tenha sido possível compreender perfeitamente do que se trata uma Regressão e como utilizar as funções disponíveis para realizar uma.\n",
    "\n",
    "Tentamos expor uma grande variedade de regressões, de forma a ser possível criar qualquer regressão a partir desses modelos-base.\n",
    "\n",
    "Recomendamos aproveitar ao máximo o código aqui escrito para conferência futura ou revisão, mas incentiva-se fortemente que, a partir do aprendido, seja possível buscar por conta própria por conteúdos na internet e adquirir certa independência para caso seja necessário solucionar problemas menos convencionais.\n",
    "\n",
    "Isso é tudo, espero que tenham gostado! Até o próximo módulo."
   ]
  }
 ],
 "metadata": {
  "kernelspec": {
   "display_name": "Python 3 (ipykernel)",
   "language": "python",
   "name": "python3"
  },
  "language_info": {
   "codemirror_mode": {
    "name": "ipython",
    "version": 3
   },
   "file_extension": ".py",
   "mimetype": "text/x-python",
   "name": "python",
   "nbconvert_exporter": "python",
   "pygments_lexer": "ipython3",
   "version": "3.9.7"
  }
 },
 "nbformat": 4,
 "nbformat_minor": 5
}
