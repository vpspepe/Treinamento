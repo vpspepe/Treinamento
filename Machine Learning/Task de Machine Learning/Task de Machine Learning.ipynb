{
 "cells": [
  {
   "cell_type": "markdown",
   "metadata": {},
   "source": [
    "\n",
    "<h1 align=\"center\"><font size=\"10\">Task Final</font></h1>\n"
   ]
  },
  {
   "cell_type": "markdown",
   "metadata": {},
   "source": [
    "# Instruções\n",
    "Nessa task, você irá praticar alguns dos algoritmos que foram passados nesse curso. Os algoritmos escolhidos cobrem uma boa parte do conteúdo dado e também representam alguns dos mais relevantes no assunto.\n",
    "\n",
    "Os algoritmos serão utilizados para criar modelos a partir do treinamento com a base de dados fornecida. Durante a task, serão implementados:\n",
    "\n",
    "1. Regressão Logística\n",
    "2. KNN\n",
    "3. SVM\n",
    "4. Árvore de decisão\n",
    "5. Regressão Linear\n",
    "\n",
    "E para avaliar o modelo, podem ser usadas as métricas:\n",
    "1.  Accuracy\n",
    "2.  Índice Jaccard\n",
    "3.  F1-Score\n",
    "4.  LogLoss\n",
    "5.  Erro absoluto médio (Mean Absolute Error - MAE)\n",
    "6.  Erro qudrático médio (Mean Squared Error - MSE)\n",
    "7.  R2-Score\n",
    "\n",
    "**Dicas**\n",
    "Todas as questões foram feitas para serem diretas e não precisarem de muitas linhas para serem implementadas. O objetivo é testar sua capacidade de implementar as funções prontas e quais parâmetros passar para cada uma delas, pesquisando na documentação ou outros sites. Se tiverem dúvidas, sintam-se à vontade para chamar qualquer membro, pedir por ajuda não é um fator considerado em sua avaliação."
   ]
  },
  {
   "cell_type": "markdown",
   "metadata": {},
   "source": [
    "A base de dados contém informações sobre o clima, dia a dia, de 2008 a 2017, e inclui as seguintes colunas:\n",
    "\n",
    "| Coluna        | Descrição                                                | Unidade           | Tipo   |\n",
    "| ------------- | -------------------------------------------------------- | ----------------- | ------ |\n",
    "| Date          | Data da observação no formato YYYY-MM-DD                 | Data              | object |\n",
    "| Location      | Local da observação                                      | Localização       | object |\n",
    "| MinTemp       | Temperatura mínima                                       | Celsius           | float  |\n",
    "| MaxTemp       | Temperatura máxima                                       | Celsius           | float  |\n",
    "| Rainfall      | Quantidade de chuva                                      | Milímetros        | float  |\n",
    "| Evaporation   | Quantidade de evaporação                                 | Milímetros        | float  |\n",
    "| Sunshine      | Tempo de luz solar                                       | Horas             | float  |\n",
    "| WindGustDir   | Direção das rajadas de vento                             | Pontos no Compasso| object |\n",
    "| WindGustSpeed | Velocidade da rajada de vento mais forte                 | Kilômetros/hora   | object |\n",
    "| WindDir9am    | Direção do vento com média de 10 minutos às 9 da manhã   | Pontos no Compasso| object |\n",
    "| WindDir3pm    | Direção do vento com média de 10 minutos às 3 da tarde   | Pontos no Compasso| object |\n",
    "| WindSpeed9am  | Velocidade do vento com média de 10 minutos às 9 da manhã| Kilômetros/hora   | float  |\n",
    "| WindSpeed3pm  | Velocidade do vento com média de 10 minutos às 3 da tarde| Kilômetros/hora   | float  |\n",
    "| Humidity9am   | Umidade ás 9 da manhã                                    | Porcentagem       | float  |\n",
    "| Humidity3pm   | Umidade ás 3 da tarde                                    | Porcentagem       | float  |\n",
    "| Pressure9am   | Pressão atmosférica às 9 da manhã                        | Hectopascal       | float  |\n",
    "| Pressure3pm   | Pressão atmosférica às 3 da tarde                        | Hectopascal       | float  |\n",
    "| Cloud9am      | Fração do céu coberta por nuvens às 9 da manhã           | Oitavos           | float  |\n",
    "| Cloud3pm      | Fração do céu coberta por nuvens às 3 da tarde           | Oitavos           | float  |\n",
    "| Temp9am       | Temperatura às 9 da manhã                                | Celsius           | float  |\n",
    "| Temp3pm       | Temperatura às 3 da tarde                                | Celsius           | float  |\n",
    "| RainToday     | Se houve chuva hoje                                      | Sim/Não           | object |\n",
    "| RISK_MM       | Previsão da quantidade de chuva no dia seguinte          | Milímetros        | float  |\n",
    "| RainTomorrow  | Se haverá chuva no dia seguinte                          | Sim/Não           | float  |\n",
    "\n",
    "Os dados foram coletados do site: [http://www.bom.gov.au/climate/dwo/IDCJDW0000.shtml](http://www.bom.gov.au/climate/dwo/IDCJDW0000.shtml?utm_medium=Exinfluencer&utm_source=Exinfluencer&utm_content=000026UJ&utm_term=10006555&utm_id=NA-SkillsNetwork-Channel-SkillsNetworkCoursesIBMDeveloperSkillsNetworkML0101ENSkillsNetwork20718538-2022-01-01)\n"
   ]
  },
  {
   "cell_type": "markdown",
   "metadata": {},
   "source": [
    "## Objetivo\n",
    "\n",
    "   O objetivo do algoritmo será classificar se haverá ou não chuva no dia seguinte, com base nos dados que mais fizerem sentido para essa tarefa. Note que não há necessidade de se utilizar todas as colunas. Quanto mais dados, melhor para que o algoritmo tenha mais informações para classificar corretamente. Porém, se os dados não levarem o algoritmo na direção correta, ou forem pouco relevantes, a utilização destes pode interferir negativamente, piorando a eficiência do algoritmo. Sintam-se livres caso queiram utilizar mais ou menos informações do que aquelas dispostas inicialmente, é possível testar quais dados geram a maior precisão.\n",
    "\n",
    "   Para isso, vários algoritmos serão utilizados e, depois de implementados, todos serão avaliados para observarmos qual o melhor modelo para realizar essa tarefa específica.\n",
    "\n",
    "   Em um projeto, esse passo a passo é importante: Existe uma demanda específica do cliente, nós identificamos essa demanda e começamos a gerar hipóteses de soluções, selecionando os melhores algoritmos para serem candidatos a realizar a tarefa. Em seguida, aplicamos os melhores modelos de nossas hipóteses e avaliamos qual entregou o melhor resultado, dada a demanda do cliente."
   ]
  },
  {
   "cell_type": "markdown",
   "metadata": {},
   "source": [
    "## **Importando as bibliotecas necessárias**"
   ]
  },
  {
   "cell_type": "code",
   "execution_count": 24,
   "metadata": {},
   "outputs": [],
   "source": [
    "# Todas as importações da biblioteca sklearn foram omitidas, seu trabalho inicial é descobrir quais irá utilizar\n",
    "import pandas as pd\n",
    "import numpy as np\n",
    "\n",
    "df = pd.read_csv(\"Weather_Data.csv\")"
   ]
  },
  {
   "cell_type": "markdown",
   "metadata": {},
   "source": [
    "## Pré-processamento\n",
    "\n",
    "Será disponibilizado um tratamento prévio para facilitar a implementação dos algoritmos e dar maior enfoque no assunto mais relevante."
   ]
  },
  {
   "cell_type": "code",
   "execution_count": 25,
   "metadata": {},
   "outputs": [
    {
     "data": {
      "text/html": [
       "<div>\n",
       "<style scoped>\n",
       "    .dataframe tbody tr th:only-of-type {\n",
       "        vertical-align: middle;\n",
       "    }\n",
       "\n",
       "    .dataframe tbody tr th {\n",
       "        vertical-align: top;\n",
       "    }\n",
       "\n",
       "    .dataframe thead th {\n",
       "        text-align: right;\n",
       "    }\n",
       "</style>\n",
       "<table border=\"1\" class=\"dataframe\">\n",
       "  <thead>\n",
       "    <tr style=\"text-align: right;\">\n",
       "      <th></th>\n",
       "      <th>Date</th>\n",
       "      <th>MinTemp</th>\n",
       "      <th>MaxTemp</th>\n",
       "      <th>Rainfall</th>\n",
       "      <th>Evaporation</th>\n",
       "      <th>Sunshine</th>\n",
       "      <th>WindGustDir</th>\n",
       "      <th>WindGustSpeed</th>\n",
       "      <th>WindDir9am</th>\n",
       "      <th>WindDir3pm</th>\n",
       "      <th>...</th>\n",
       "      <th>Humidity9am</th>\n",
       "      <th>Humidity3pm</th>\n",
       "      <th>Pressure9am</th>\n",
       "      <th>Pressure3pm</th>\n",
       "      <th>Cloud9am</th>\n",
       "      <th>Cloud3pm</th>\n",
       "      <th>Temp9am</th>\n",
       "      <th>Temp3pm</th>\n",
       "      <th>RainToday</th>\n",
       "      <th>RainTomorrow</th>\n",
       "    </tr>\n",
       "  </thead>\n",
       "  <tbody>\n",
       "    <tr>\n",
       "      <th>0</th>\n",
       "      <td>2/1/2008</td>\n",
       "      <td>19.5</td>\n",
       "      <td>22.4</td>\n",
       "      <td>15.6</td>\n",
       "      <td>6.2</td>\n",
       "      <td>0.0</td>\n",
       "      <td>W</td>\n",
       "      <td>41</td>\n",
       "      <td>S</td>\n",
       "      <td>SSW</td>\n",
       "      <td>...</td>\n",
       "      <td>92</td>\n",
       "      <td>84</td>\n",
       "      <td>1017.6</td>\n",
       "      <td>1017.4</td>\n",
       "      <td>8</td>\n",
       "      <td>8</td>\n",
       "      <td>20.7</td>\n",
       "      <td>20.9</td>\n",
       "      <td>Yes</td>\n",
       "      <td>Yes</td>\n",
       "    </tr>\n",
       "    <tr>\n",
       "      <th>1</th>\n",
       "      <td>2/2/2008</td>\n",
       "      <td>19.5</td>\n",
       "      <td>25.6</td>\n",
       "      <td>6.0</td>\n",
       "      <td>3.4</td>\n",
       "      <td>2.7</td>\n",
       "      <td>W</td>\n",
       "      <td>41</td>\n",
       "      <td>W</td>\n",
       "      <td>E</td>\n",
       "      <td>...</td>\n",
       "      <td>83</td>\n",
       "      <td>73</td>\n",
       "      <td>1017.9</td>\n",
       "      <td>1016.4</td>\n",
       "      <td>7</td>\n",
       "      <td>7</td>\n",
       "      <td>22.4</td>\n",
       "      <td>24.8</td>\n",
       "      <td>Yes</td>\n",
       "      <td>Yes</td>\n",
       "    </tr>\n",
       "    <tr>\n",
       "      <th>2</th>\n",
       "      <td>2/3/2008</td>\n",
       "      <td>21.6</td>\n",
       "      <td>24.5</td>\n",
       "      <td>6.6</td>\n",
       "      <td>2.4</td>\n",
       "      <td>0.1</td>\n",
       "      <td>W</td>\n",
       "      <td>41</td>\n",
       "      <td>ESE</td>\n",
       "      <td>ESE</td>\n",
       "      <td>...</td>\n",
       "      <td>88</td>\n",
       "      <td>86</td>\n",
       "      <td>1016.7</td>\n",
       "      <td>1015.6</td>\n",
       "      <td>7</td>\n",
       "      <td>8</td>\n",
       "      <td>23.5</td>\n",
       "      <td>23.0</td>\n",
       "      <td>Yes</td>\n",
       "      <td>Yes</td>\n",
       "    </tr>\n",
       "  </tbody>\n",
       "</table>\n",
       "<p>3 rows × 22 columns</p>\n",
       "</div>"
      ],
      "text/plain": [
       "       Date  MinTemp  MaxTemp  Rainfall  Evaporation  Sunshine WindGustDir  \\\n",
       "0  2/1/2008     19.5     22.4      15.6          6.2       0.0           W   \n",
       "1  2/2/2008     19.5     25.6       6.0          3.4       2.7           W   \n",
       "2  2/3/2008     21.6     24.5       6.6          2.4       0.1           W   \n",
       "\n",
       "   WindGustSpeed WindDir9am WindDir3pm  ...  Humidity9am  Humidity3pm  \\\n",
       "0             41          S        SSW  ...           92           84   \n",
       "1             41          W          E  ...           83           73   \n",
       "2             41        ESE        ESE  ...           88           86   \n",
       "\n",
       "   Pressure9am  Pressure3pm  Cloud9am  Cloud3pm  Temp9am  Temp3pm  RainToday  \\\n",
       "0       1017.6       1017.4         8         8     20.7     20.9        Yes   \n",
       "1       1017.9       1016.4         7         7     22.4     24.8        Yes   \n",
       "2       1016.7       1015.6         7         8     23.5     23.0        Yes   \n",
       "\n",
       "   RainTomorrow  \n",
       "0           Yes  \n",
       "1           Yes  \n",
       "2           Yes  \n",
       "\n",
       "[3 rows x 22 columns]"
      ]
     },
     "execution_count": 25,
     "metadata": {},
     "output_type": "execute_result"
    }
   ],
   "source": [
    "df.head(3)"
   ]
  },
  {
   "cell_type": "code",
   "execution_count": 26,
   "metadata": {},
   "outputs": [],
   "source": [
    "# Mudando valores de rótulos para numéricos\n",
    "df_sydney_processed = pd.get_dummies(data=df, columns=['RainToday', 'WindGustDir', 'WindDir9am', 'WindDir3pm'])\n",
    "\n",
    "# Não será utilizado a get_dummies nesse caso porque nós acabaríamos tendo 2 colunas, o que não é desejado\n",
    "df_sydney_processed.replace(['No', 'Yes'], [0,1], inplace=True)\n",
    "\n",
    "# Deletando coluna desnecessária\n",
    "df_sydney_processed.drop('Date',axis=1,inplace=True)\n",
    "\n",
    "# Mudando tipos de variáveis para float\n",
    "df_sydney_processed = df_sydney_processed.astype(float)\n",
    "\n",
    "# Atribuindo variáveis preditoras e classificações esperadas\n",
    "X = df_sydney_processed.drop(columns='RainTomorrow', axis=1)\n",
    "Y = df_sydney_processed['RainTomorrow']"
   ]
  },
  {
   "cell_type": "code",
   "execution_count": 29,
   "metadata": {},
   "outputs": [
    {
     "data": {
      "text/plain": [
       "MinTemp           0.082804\n",
       "MaxTemp           0.152525\n",
       "Rainfall          0.296120\n",
       "Evaporation       0.070145\n",
       "Sunshine          0.529112\n",
       "                    ...   \n",
       "WindDir3pm_SSW    0.171661\n",
       "WindDir3pm_SW     0.046124\n",
       "WindDir3pm_W      0.046956\n",
       "WindDir3pm_WNW    0.095579\n",
       "WindDir3pm_WSW    0.037785\n",
       "Name: RainTomorrow, Length: 66, dtype: float64"
      ]
     },
     "execution_count": 29,
     "metadata": {},
     "output_type": "execute_result"
    }
   ],
   "source": [
    "#pesos que serão atribuídos a cada uma das features com base na corelação entre elas e a label\n",
    "weights = abs(df_sydney_processed.corr()['RainTomorrow'].drop('RainTomorrow'))\n",
    "weights"
   ]
  },
  {
   "attachments": {},
   "cell_type": "markdown",
   "metadata": {},
   "source": [
    "##### VERIFICANDO A CORRELAÇÃO ENTRE VARIÁVEIS PARA REDUZIR A DIMENSIONALIDADE "
   ]
  },
  {
   "cell_type": "code",
   "execution_count": 30,
   "metadata": {},
   "outputs": [
    {
     "data": {
      "text/plain": [
       "<AxesSubplot:>"
      ]
     },
     "execution_count": 30,
     "metadata": {},
     "output_type": "execute_result"
    },
    {
     "data": {
      "image/png": "[encoded data removed]",
      "text/plain": [
       "<Figure size 640x480 with 2 Axes>"
      ]
     },
     "metadata": {},
     "output_type": "display_data"
    }
   ],
   "source": [
    "import seaborn as sns\n",
    "sns.heatmap(X.corr())"
   ]
  },
  {
   "cell_type": "code",
   "execution_count": 31,
   "metadata": {},
   "outputs": [],
   "source": [
    "#nesse código, eu encontro as varáveis que estão altamente realcionadas e , assim, consigo descartá-las se o valor for maior que o threshold, reduzindo a dimensão e otimizando o modelo\n",
    "def correlation(dataset, threshold):\n",
    "    col_corr = set()  # Set of all the names of correlated columns\n",
    "    corr_matrix = dataset.corr()\n",
    "    for i in range(len(corr_matrix.columns)):\n",
    "        for j in range(i):\n",
    "            if abs(corr_matrix.iloc[i, j]) > threshold: # we are interested in absolute coeff value\n",
    "                colname = corr_matrix.columns[i]  # getting the name of column\n",
    "                col_corr.add(colname)\n",
    "    return col_corr\n"
   ]
  },
  {
   "cell_type": "code",
   "execution_count": 32,
   "metadata": {},
   "outputs": [
    {
     "data": {
      "text/plain": [
       "{'Pressure3pm', 'RainToday_Yes', 'Temp3pm', 'Temp9am'}"
      ]
     },
     "execution_count": 32,
     "metadata": {},
     "output_type": "execute_result"
    }
   ],
   "source": [
    "corr_features = correlation(X, 0.9)\n",
    "corr_features"
   ]
  },
  {
   "cell_type": "code",
   "execution_count": 33,
   "metadata": {},
   "outputs": [],
   "source": [
    "X.drop(corr_features, axis=1, inplace = True)"
   ]
  },
  {
   "cell_type": "markdown",
   "metadata": {},
   "source": [
    "#### Q1) Use a função `train_test_split` para dividir as variáveis preditas das preditoras com um tamanho de teste de 20% do total e o argumento `random_state` igual `1`."
   ]
  },
  {
   "cell_type": "code",
   "execution_count": 102,
   "metadata": {},
   "outputs": [],
   "source": [
    "from sklearn.model_selection import train_test_split, GridSearchCV\n",
    "x_treino, x_teste, y_treino, y_teste = train_test_split( X, Y, test_size=0.2, random_state=1)\n"
   ]
  },
  {
   "attachments": {},
   "cell_type": "markdown",
   "metadata": {},
   "source": [
    "#### OBS: Como cada classificador funcionava melhor com uma certa padronização/normalização dos dados, fiz uma função que testa cada uma dos 'scalers' disponíveis, com cada um dos parâmetros, e retorna o modelo mais preciso, baseado na acurácia, com os melhores parâmetros e o melhor scaler"
   ]
  },
  {
   "cell_type": "code",
   "execution_count": 176,
   "metadata": {},
   "outputs": [],
   "source": [
    "\n",
    "from sklearn.metrics import accuracy_score, jaccard_score, f1_score, log_loss\n",
    "from sklearn.preprocessing import StandardScaler, MinMaxScaler, Normalizer\n",
    "scalers = [StandardScaler(), MinMaxScaler(), Normalizer(), None]\n",
    "\n",
    "def ScalerSelect(scaler, X, Y, model, params, kfolds, metric):\n",
    "    if scaler != None:\n",
    "        X_scaled = scaler.fit_transform(X)\n",
    "    else:\n",
    "        X_scaled = X\n",
    "    x_scaled_train, x_scaled_test, y_scaled_train, y_scaled_test = train_test_split(X_scaled, Y, test_size= 0.2, random_state= 1)\n",
    "    clf = GridSearchCV(model, params, cv = kfolds).fit(x_scaled_train, y_scaled_train)\n",
    "    predict = clf.predict(x_scaled_test)\n",
    "    score = metric(y_scaled_test, predict)\n",
    "    return {'classifier': clf, 'score' : score, 'x_teste' : x_scaled_test}"
   ]
  },
  {
   "attachments": {},
   "cell_type": "markdown",
   "metadata": {},
   "source": [
    "#### Essa função abaixo escolhe e retorna o melhor modelo dentre os criados no ScalerSelect"
   ]
  },
  {
   "cell_type": "code",
   "execution_count": 177,
   "metadata": {},
   "outputs": [],
   "source": [
    "def ModelSelect(X, Y, Model, params, kfolds,metric):\n",
    "    models = []\n",
    "    for scaler in scalers:\n",
    "        models.append(ScalerSelect(scaler, X, Y, Model, params, kfolds,metric))\n",
    "        best_model = {'classifier': None, 'score': 0}\n",
    "        for model in models:\n",
    "                if model['score'] > best_model['score']:\n",
    "                    best_model = model\n",
    "    return(best_model)"
   ]
  },
  {
   "cell_type": "markdown",
   "metadata": {},
   "source": [
    "## Regressão Logística"
   ]
  },
  {
   "cell_type": "markdown",
   "metadata": {},
   "source": [
    "#### Q2) Crie e treine um modelo de regressão logística usando os dados de treino (`x_treino`, `y_treino`)"
   ]
  },
  {
   "cell_type": "code",
   "execution_count": 178,
   "metadata": {},
   "outputs": [],
   "source": [
    "from sklearn.linear_model import LogisticRegression\n",
    "import warnings \n",
    "warnings.filterwarnings(\"ignore\")"
   ]
  },
  {
   "cell_type": "code",
   "execution_count": 179,
   "metadata": {},
   "outputs": [],
   "source": [
    "log_params = {'penalty':('l1' , 'l2' , 'elasticnet' ),'solver':('liblinear' , 'lbfgs'),'random_state':[1], 'max_iter': [200]}\n",
    "LR = ModelSelect(X,Y,LogisticRegression(),log_params, 5, accuracy_score)\n",
    "Log_clf, x_scaled_test = LR['classifier'], LR['x_teste']"
   ]
  },
  {
   "cell_type": "code",
   "execution_count": 180,
   "metadata": {},
   "outputs": [
    {
     "data": {
      "text/plain": [
       "GridSearchCV(cv=5, estimator=LogisticRegression(),\n",
       "             param_grid={'max_iter': [200],\n",
       "                         'penalty': ('l1', 'l2', 'elasticnet'),\n",
       "                         'random_state': [1],\n",
       "                         'solver': ('liblinear', 'lbfgs')})"
      ]
     },
     "execution_count": 180,
     "metadata": {},
     "output_type": "execute_result"
    }
   ],
   "source": [
    "Log_clf"
   ]
  },
  {
   "cell_type": "code",
   "execution_count": 181,
   "metadata": {},
   "outputs": [
    {
     "name": "stdout",
     "output_type": "stream",
     "text": [
      "0.8367725833053582\n"
     ]
    }
   ],
   "source": [
    "print(Log_clf.best_score_)"
   ]
  },
  {
   "cell_type": "markdown",
   "metadata": {},
   "source": [
    "#### Q3) Use o método `predict` nos dados de treinamento (`x_teste`) e salve-os no vetor `predictions`."
   ]
  },
  {
   "cell_type": "code",
   "execution_count": 182,
   "metadata": {},
   "outputs": [],
   "source": [
    "predictions = Log_clf.predict(x_scaled_test)"
   ]
  },
  {
   "cell_type": "markdown",
   "metadata": {},
   "source": [
    "#### Q4) Usando o vetor `predictions` e os dados `y_teste`, calcule o valor de cada métrica usando a função apropriada"
   ]
  },
  {
   "cell_type": "code",
   "execution_count": 154,
   "metadata": {},
   "outputs": [],
   "source": [
    "LR_Accuracy_Score = accuracy_score(y_teste,predictions)\n",
    "LR_JaccardIndex = jaccard_score(y_teste,predictions)\n",
    "LR_F1_Score = f1_score(y_teste,predictions)\n",
    "LR_Log_Loss = log_loss(y_teste,predictions)"
   ]
  },
  {
   "cell_type": "code",
   "execution_count": 155,
   "metadata": {},
   "outputs": [
    {
     "name": "stdout",
     "output_type": "stream",
     "text": [
      "0.8274809160305343\n",
      "0.49099099099099097\n",
      "0.6586102719033233\n",
      "5.958646895453612\n"
     ]
    }
   ],
   "source": [
    "print(LR_Accuracy_Score,LR_JaccardIndex,LR_F1_Score,LR_Log_Loss, sep = '\\n')"
   ]
  },
  {
   "cell_type": "markdown",
   "metadata": {},
   "source": [
    "## KNN "
   ]
  },
  {
   "cell_type": "markdown",
   "metadata": {},
   "source": [
    "#### Q5) Crie e treine um modelo KNN usando os dados de treino (`x_treino`, `y_treino`) com o parâmetro `n_neighbors` igual a `4`."
   ]
  },
  {
   "cell_type": "code",
   "execution_count": 41,
   "metadata": {},
   "outputs": [],
   "source": [
    "from sklearn.neighbors import KNeighborsClassifier"
   ]
  },
  {
   "cell_type": "code",
   "execution_count": 156,
   "metadata": {},
   "outputs": [
    {
     "name": "stdout",
     "output_type": "stream",
     "text": [
      "0.8195721979770262\n",
      "{'algorithm': 'ball_tree', 'n_neighbors': 4, 'weights': 'uniform'}\n"
     ]
    }
   ],
   "source": [
    "knn_params = {'n_neighbors' : [4], 'weights' : ['uniform','distance'], 'algorithm' : ['ball_tree','kd_tree','brute']}\n",
    "KNN = ModelSelect(X,Y,KNeighborsClassifier(),knn_params, 5, accuracy_score)\n",
    "KNN, x_scaled_test = KNN['classifier'] ,KNN['x_teste']\n",
    "print(KNN.best_score_, KNN.best_params_, sep = \"\\n\")"
   ]
  },
  {
   "cell_type": "markdown",
   "metadata": {},
   "source": [
    "#### Q6) Use o método `predict` nos dados de teste (`x_teste`) e salve-os no vetor `predictions`."
   ]
  },
  {
   "cell_type": "code",
   "execution_count": 157,
   "metadata": {},
   "outputs": [],
   "source": [
    "predictions = KNN.predict(x_teste)"
   ]
  },
  {
   "cell_type": "markdown",
   "metadata": {},
   "source": [
    "#### Q7) Usando o vetor `predictions` e  os dados `y_teste` calcule o valor de cada métrica usando a função apropriada."
   ]
  },
  {
   "cell_type": "code",
   "execution_count": 158,
   "metadata": {},
   "outputs": [
    {
     "name": "stdout",
     "output_type": "stream",
     "text": [
      "0.8076335877862595\n",
      "0.3883495145631068\n",
      "0.5594405594405594\n"
     ]
    }
   ],
   "source": [
    "KNN_Accuracy_Score = accuracy_score(y_teste, predictions)\n",
    "KNN_JaccardIndex = jaccard_score(y_teste, predictions)\n",
    "KNN_F1_Score = f1_score(y_teste, predictions)\n",
    "print(KNN_Accuracy_Score,KNN_JaccardIndex,KNN_F1_Score, sep = '\\n')\n"
   ]
  },
  {
   "cell_type": "markdown",
   "metadata": {},
   "source": [
    "## SVM"
   ]
  },
  {
   "cell_type": "markdown",
   "metadata": {},
   "source": [
    "#### Q8) Crie e treine um modelo SVM usando os dados de treino (`x_treino`, `y_treino`)."
   ]
  },
  {
   "cell_type": "code",
   "execution_count": 45,
   "metadata": {},
   "outputs": [],
   "source": [
    "from sklearn.svm import SVC"
   ]
  },
  {
   "cell_type": "code",
   "execution_count": 159,
   "metadata": {},
   "outputs": [
    {
     "name": "stdout",
     "output_type": "stream",
     "text": [
      "0.8329528702581992\n"
     ]
    }
   ],
   "source": [
    "svm_params = {'C':[0.2,1,2], 'kernel' :['linear','poly','rbf'], 'degree' :[3,4]}\n",
    "SVM = ModelSelect(X,Y,SVC(),svm_params, 5, accuracy_score)\n",
    "SVM, x_scaled_test = SVM['classifier'] ,SVM['x_teste']\n",
    "print(SVM.best_score_)"
   ]
  },
  {
   "cell_type": "markdown",
   "metadata": {},
   "source": [
    "#### Q9) Use o método `predict` nos dados de teste (`x_teste`) e salve-os no vetor `predictions`."
   ]
  },
  {
   "cell_type": "code",
   "execution_count": 163,
   "metadata": {},
   "outputs": [],
   "source": [
    "predictions = SVM.predict(x_scaled_test)"
   ]
  },
  {
   "cell_type": "markdown",
   "metadata": {},
   "source": [
    "#### Q10) Usando o vetor `predictions`  e os dados de teste `y_teste` calcule o valor de cada métrica usando a função apropriada."
   ]
  },
  {
   "cell_type": "code",
   "execution_count": 164,
   "metadata": {},
   "outputs": [],
   "source": [
    "SVM_Accuracy_Score = accuracy_score(y_teste, predictions)\n",
    "SVM_JaccardIndex = jaccard_score(y_teste, predictions)\n",
    "SVM_F1_Score = f1_score(y_teste, predictions)"
   ]
  },
  {
   "cell_type": "code",
   "execution_count": 165,
   "metadata": {},
   "outputs": [
    {
     "name": "stdout",
     "output_type": "stream",
     "text": [
      "0.6687500000000001\n",
      "0.8381679389312977\n",
      "0.5023474178403756\n"
     ]
    }
   ],
   "source": [
    "print(SVM_F1_Score, SVM_Accuracy_Score, SVM_JaccardIndex, sep = '\\n' )"
   ]
  },
  {
   "cell_type": "markdown",
   "metadata": {},
   "source": [
    "## Árvore de Decisão"
   ]
  },
  {
   "cell_type": "markdown",
   "metadata": {},
   "source": [
    "#### Q11) Crie e treine uma modelo de árvore de decisão usando os dados de treino (`x_treino`, `y_treino`)."
   ]
  },
  {
   "cell_type": "code",
   "execution_count": 166,
   "metadata": {},
   "outputs": [],
   "source": [
    "from sklearn.ensemble import RandomForestClassifier"
   ]
  },
  {
   "attachments": {},
   "cell_type": "markdown",
   "metadata": {},
   "source": [
    "##### Nao utilizei scaler no random forest já que ele não interfere em árvores de decisão"
   ]
  },
  {
   "cell_type": "code",
   "execution_count": 170,
   "metadata": {},
   "outputs": [],
   "source": [
    "Tree_params = { 'criterion' : ['gini','entropy','log_loss'], 'n_estimators' :[500,1000], 'max_features' : ['sqrt','log2']}\n",
    "Tree = GridSearchCV(RandomForestClassifier(),Tree_params, cv = 5).fit(x_treino, y_treino)"
   ]
  },
  {
   "cell_type": "code",
   "execution_count": 171,
   "metadata": {},
   "outputs": [
    {
     "name": "stdout",
     "output_type": "stream",
     "text": [
      "0.8436530293520936 {'criterion': 'entropy', 'max_features': 'log2', 'n_estimators': 1000}\n"
     ]
    }
   ],
   "source": [
    "print(Tree.best_score_,Tree.best_params_)"
   ]
  },
  {
   "cell_type": "markdown",
   "metadata": {},
   "source": [
    "#### Q12) Use o método `predict` nos dados de teste (`x_teste`) e salve-os no vetor `predictions`."
   ]
  },
  {
   "cell_type": "code",
   "execution_count": 172,
   "metadata": {},
   "outputs": [],
   "source": [
    "predictions = Tree.predict(x_teste)"
   ]
  },
  {
   "cell_type": "markdown",
   "metadata": {},
   "source": [
    "#### Q13) Usando o vetor `predictions` e os dados de teste `y_teste` calcule o valor de cada métrica usando a função apropriada."
   ]
  },
  {
   "cell_type": "code",
   "execution_count": 173,
   "metadata": {},
   "outputs": [
    {
     "name": "stdout",
     "output_type": "stream",
     "text": [
      "0.6363636363636364\n",
      "0.8290076335877863\n",
      "0.4666666666666667\n"
     ]
    }
   ],
   "source": [
    "Tree_Accuracy_Score = accuracy_score(y_teste, predictions)\n",
    "Tree_JaccardIndex = jaccard_score(y_teste, predictions)\n",
    "Tree_F1_Score = f1_score(y_teste, predictions)\n",
    "print(Tree_F1_Score, Tree_Accuracy_Score, Tree_JaccardIndex, sep = '\\n' )\n"
   ]
  },
  {
   "cell_type": "markdown",
   "metadata": {},
   "source": [
    "## Relatório Final"
   ]
  },
  {
   "cell_type": "markdown",
   "metadata": {},
   "source": [
    "#### Q14) Mostre as métricas Accuracy,Jaccard Index,F1-Score em forma de tabela usando os valores obtidos pelos algoritmos nos modelos acima."
   ]
  },
  {
   "cell_type": "code",
   "execution_count": 185,
   "metadata": {},
   "outputs": [
    {
     "data": {
      "text/html": [
       "<div>\n",
       "<style scoped>\n",
       "    .dataframe tbody tr th:only-of-type {\n",
       "        vertical-align: middle;\n",
       "    }\n",
       "\n",
       "    .dataframe tbody tr th {\n",
       "        vertical-align: top;\n",
       "    }\n",
       "\n",
       "    .dataframe thead th {\n",
       "        text-align: right;\n",
       "    }\n",
       "</style>\n",
       "<table border=\"1\" class=\"dataframe\">\n",
       "  <thead>\n",
       "    <tr style=\"text-align: right;\">\n",
       "      <th></th>\n",
       "      <th>Accuracy</th>\n",
       "      <th>Jaccard</th>\n",
       "      <th>F1</th>\n",
       "    </tr>\n",
       "  </thead>\n",
       "  <tbody>\n",
       "    <tr>\n",
       "      <th>LR</th>\n",
       "      <td>0.827481</td>\n",
       "      <td>0.490991</td>\n",
       "      <td>0.658610</td>\n",
       "    </tr>\n",
       "    <tr>\n",
       "      <th>SVM</th>\n",
       "      <td>0.838168</td>\n",
       "      <td>0.502347</td>\n",
       "      <td>0.668750</td>\n",
       "    </tr>\n",
       "    <tr>\n",
       "      <th>KNN</th>\n",
       "      <td>0.807634</td>\n",
       "      <td>0.388350</td>\n",
       "      <td>0.559441</td>\n",
       "    </tr>\n",
       "    <tr>\n",
       "      <th>Tree</th>\n",
       "      <td>0.829008</td>\n",
       "      <td>0.466667</td>\n",
       "      <td>0.636364</td>\n",
       "    </tr>\n",
       "  </tbody>\n",
       "</table>\n",
       "</div>"
      ],
      "text/plain": [
       "      Accuracy   Jaccard        F1\n",
       "LR    0.827481  0.490991  0.658610\n",
       "SVM   0.838168  0.502347  0.668750\n",
       "KNN   0.807634  0.388350  0.559441\n",
       "Tree  0.829008  0.466667  0.636364"
      ]
     },
     "execution_count": 185,
     "metadata": {},
     "output_type": "execute_result"
    }
   ],
   "source": [
    "Report = pd.DataFrame({'Accuracy' : [LR_Accuracy_Score,SVM_Accuracy_Score,KNN_Accuracy_Score,Tree_Accuracy_Score], 'Jaccard' : [LR_JaccardIndex, SVM_JaccardIndex, KNN_JaccardIndex, Tree_JaccardIndex], 'F1' : [LR_F1_Score,SVM_F1_Score,KNN_F1_Score,Tree_F1_Score]})\n",
    "Report.index = ['LR','SVM','KNN','Tree']\n",
    "Report"
   ]
  },
  {
   "cell_type": "markdown",
   "metadata": {},
   "source": [
    "## Regressão Linear"
   ]
  },
  {
   "cell_type": "markdown",
   "metadata": {},
   "source": [
    "#### Q15) Crie e treine um modelo de Regressão Linear usando os dados (`x_treino`, `y_treino`)."
   ]
  },
  {
   "cell_type": "code",
   "execution_count": 187,
   "metadata": {},
   "outputs": [],
   "source": [
    "from sklearn.metrics import mean_absolute_error, mean_squared_error, r2_score\n",
    "from sklearn.linear_model import LinearRegression "
   ]
  },
  {
   "cell_type": "code",
   "execution_count": 188,
   "metadata": {},
   "outputs": [
    {
     "name": "stdout",
     "output_type": "stream",
     "text": [
      "0.3582511764545219 {'fit_intercept': True, 'normalize': False}\n"
     ]
    }
   ],
   "source": [
    "Linear_params = {'fit_intercept': [True, False], 'normalize': [True, False]}\n",
    "LinearReg = ModelSelect(X,Y,LinearRegression(),Linear_params, 5, r2_score)\n",
    "LinearReg, x_scaled_test = LinearReg['classifier'] ,LinearReg['x_teste']\n",
    "print(LinearReg.best_score_, LinearReg.best_params_)"
   ]
  },
  {
   "cell_type": "markdown",
   "metadata": {},
   "source": [
    "#### Q16) Use o método `predict` nos dados de teste (`x_teste`) e salve-os no vetor `predictions`."
   ]
  },
  {
   "cell_type": "code",
   "execution_count": 189,
   "metadata": {},
   "outputs": [],
   "source": [
    "predictions = LinearReg.predict(x_scaled_test)"
   ]
  },
  {
   "cell_type": "markdown",
   "metadata": {},
   "source": [
    "#### Q17) Usando o vetor `predictions` e os dados de teste `y_teste` calcule o valor de cada métrica usando a função apropriada."
   ]
  },
  {
   "cell_type": "code",
   "execution_count": 190,
   "metadata": {},
   "outputs": [],
   "source": [
    "LinearRegression_MAE = mean_absolute_error(y_teste, predictions)\n",
    "LinearRegression_MSE = mean_squared_error(y_teste, predictions)\n",
    "LinearRegression_R2 = r2_score(y_teste, predictions)"
   ]
  },
  {
   "cell_type": "markdown",
   "metadata": {},
   "source": [
    "#### Q18) Mostre as métricas MAE, MSE, e R2 obtidas em forma de tabela."
   ]
  },
  {
   "cell_type": "code",
   "execution_count": 191,
   "metadata": {},
   "outputs": [],
   "source": [
    "Report = pd.DataFrame([['MAE','MSE','R2'],[LinearRegression_MAE,LinearRegression_MSE,LinearRegression_R2]])"
   ]
  },
  {
   "cell_type": "code",
   "execution_count": 192,
   "metadata": {},
   "outputs": [
    {
     "data": {
      "text/html": [
       "<div>\n",
       "<style scoped>\n",
       "    .dataframe tbody tr th:only-of-type {\n",
       "        vertical-align: middle;\n",
       "    }\n",
       "\n",
       "    .dataframe tbody tr th {\n",
       "        vertical-align: top;\n",
       "    }\n",
       "\n",
       "    .dataframe thead th {\n",
       "        text-align: right;\n",
       "    }\n",
       "</style>\n",
       "<table border=\"1\" class=\"dataframe\">\n",
       "  <thead>\n",
       "    <tr style=\"text-align: right;\">\n",
       "      <th></th>\n",
       "      <th>0</th>\n",
       "      <th>1</th>\n",
       "      <th>2</th>\n",
       "    </tr>\n",
       "  </thead>\n",
       "  <tbody>\n",
       "    <tr>\n",
       "      <th>0</th>\n",
       "      <td>MAE</td>\n",
       "      <td>MSE</td>\n",
       "      <td>R2</td>\n",
       "    </tr>\n",
       "    <tr>\n",
       "      <th>1</th>\n",
       "      <td>0.26461</td>\n",
       "      <td>0.123171</td>\n",
       "      <td>0.386153</td>\n",
       "    </tr>\n",
       "  </tbody>\n",
       "</table>\n",
       "</div>"
      ],
      "text/plain": [
       "         0         1         2\n",
       "0      MAE       MSE        R2\n",
       "1  0.26461  0.123171  0.386153"
      ]
     },
     "execution_count": 192,
     "metadata": {},
     "output_type": "execute_result"
    }
   ],
   "source": [
    "Report"
   ]
  }
 ],
 "metadata": {
  "kernelspec": {
   "display_name": "Python 3 (ipykernel)",
   "language": "python",
   "name": "python3"
  },
  "language_info": {
   "codemirror_mode": {
    "name": "ipython",
    "version": 3
   },
   "file_extension": ".py",
   "mimetype": "text/x-python",
   "name": "python",
   "nbconvert_exporter": "python",
   "pygments_lexer": "ipython3",
   "version": "3.9.13"
  }
 },
 "nbformat": 4,
 "nbformat_minor": 4
}
